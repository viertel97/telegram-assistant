{
 "cells": [
  {
   "cell_type": "code",
   "execution_count": 1,
   "id": "initial_id",
   "metadata": {
    "collapsed": true,
    "ExecuteTime": {
     "end_time": "2023-08-31T10:04:08.880400Z",
     "start_time": "2023-08-31T10:04:03.427090Z"
    }
   },
   "outputs": [
    {
     "name": "stderr",
     "output_type": "stream",
     "text": [
      "2023-08-31 12:04:04.218 | INFO     | quarter_lib.akeyless:<module>:10 - credentials loaded from env: False\n"
     ]
    }
   ],
   "source": [
    "from quarter_lib.akeyless import get_secrets\n",
    "TODOIST_TOKEN = get_secrets(['todoist/token'])\n",
    "from todoist_api_python.api import TodoistAPI\n",
    "TODOIST_API = TodoistAPI(TODOIST_TOKEN)\n"
   ]
  },
  {
   "cell_type": "code",
   "execution_count": 4,
   "outputs": [
    {
     "data": {
      "text/plain": "[Label(id='2168502868', name='To-Work-Done', color='charcoal', order=1, is_favorite=False),\n Label(id='2168502713', name='To-Work', color='charcoal', order=2, is_favorite=False),\n Label(id='2158865868', name='DONE', color='charcoal', order=24, is_favorite=False),\n Label(id='2160281003', name='public', color='charcoal', order=25, is_favorite=False),\n Label(id='2160732004', name='To-Notion', color='charcoal', order=26, is_favorite=False),\n Label(id='2160732007', name='To-Notion-Done', color='charcoal', order=27, is_favorite=False),\n Label(id='2161901884', name='Microjournal', color='charcoal', order=30, is_favorite=False),\n Label(id='2161902457', name='To-Microjournal-Done', color='charcoal', order=31, is_favorite=False),\n Label(id='2163807453', name='To-Rethink-Done', color='charcoal', order=32, is_favorite=False),\n Label(id='2166565840', name='To-Buy', color='charcoal', order=33, is_favorite=False),\n Label(id='2167170636', name='tod', color='charcoal', order=33, is_favorite=False),\n Label(id='2167263122', name='ChatGPT', color='charcoal', order=34, is_favorite=False)]"
     },
     "execution_count": 4,
     "metadata": {},
     "output_type": "execute_result"
    }
   ],
   "source": [
    "TODOIST_API.get_labels()"
   ],
   "metadata": {
    "collapsed": false,
    "ExecuteTime": {
     "end_time": "2023-08-31T10:06:55.614602Z",
     "start_time": "2023-08-31T10:06:55.204174Z"
    }
   },
   "id": "ff831267011a01ff"
  },
  {
   "cell_type": "code",
   "execution_count": 3,
   "outputs": [
    {
     "data": {
      "text/plain": "[Section(id='125036506', name='', order=2, project_id='2242008419'),\n Section(id='18513283', name='2023', order=4, project_id='2244466879'),\n Section(id='18496250', name='Monthly', order=3, project_id='2244466904'),\n Section(id='18496302', name='Half-Yearly', order=4, project_id='2244466904'),\n Section(id='18496273', name='Yearly', order=5, project_id='2244466904'),\n Section(id='18718110', name='Two-Yearly', order=6, project_id='2244466904'),\n Section(id='85869830', name='Exact-Date-Routines', order=7, project_id='2244466904'),\n Section(id='18496174', name='Daily', order=1, project_id='2244708745'),\n Section(id='70858764', name='Automation', order=1, project_id='2244708745'),\n Section(id='18695360', name='Weekly', order=2, project_id='2244708745'),\n Section(id='21778132', name='Arbeit', order=3, project_id='2244708745'),\n Section(id='101600448', name='Monthly', order=3, project_id='2244708745'),\n Section(id='101675928', name='Quarterly', order=4, project_id='2244708745'),\n Section(id='86014721', name='Exact-Date-THIS-WEEK', order=1, project_id='2244725398'),\n Section(id='18511346', name='Recurring Areas of Focus', order=2, project_id='2244725398'),\n Section(id='124643194', name='Unbekannt', order=1, project_id='2247224944'),\n Section(id='25028879', name='Obst Gemüse', order=2, project_id='2247224944'),\n Section(id='43169276', name='Gewürze', order=3, project_id='2247224944'),\n Section(id='116806498', name='Nüsse Trockenobst', order=4, project_id='2247224944'),\n Section(id='38640239', name='Konserven', order=5, project_id='2247224944'),\n Section(id='65351805', name='Backartikel Teigwaren', order=6, project_id='2247224944'),\n Section(id='25028917', name='Tee Kaffee', order=7, project_id='2247224944'),\n Section(id='43169246', name='Tiefkühlprodukte', order=8, project_id='2247224944'),\n Section(id='25028948', name='Molkereiprodukte Kühlprodukte', order=9, project_id='2247224944'),\n Section(id='115500509', name='Trockensortiment', order=10, project_id='2247224944'),\n Section(id='43169170', name='Getränkemark Süßigkeiten', order=11, project_id='2247224944'),\n Section(id='25029165', name='Körperpflegeprodukte', order=12, project_id='2247224944'),\n Section(id='60300005', name='Haushaltsverbrauch', order=13, project_id='2247224944'),\n Section(id='43169072', name='Rest', order=14, project_id='2247224944'),\n Section(id='126308123', name='REWE', order=15, project_id='2247224944'),\n Section(id='122699776', name='Asia-Laden', order=16, project_id='2247224944'),\n Section(id='124088979', name='Türkei-Laden', order=17, project_id='2247224944'),\n Section(id='129933943', name='Amazon', order=18, project_id='2247224944'),\n Section(id='100014109', name='To-Notion-Done', order=1, project_id='2298105794'),\n Section(id='100014120', name='To-Microjournal-Done', order=2, project_id='2298105794'),\n Section(id='132700483', name='To-Work-Done', order=3, project_id='2298105794')]"
     },
     "execution_count": 3,
     "metadata": {},
     "output_type": "execute_result"
    }
   ],
   "source": [
    "TODOIST_API.get_sections()"
   ],
   "metadata": {
    "collapsed": false,
    "ExecuteTime": {
     "end_time": "2023-08-31T10:06:01.429187Z",
     "start_time": "2023-08-31T10:06:00.793188Z"
    }
   },
   "id": "3e2031addf16c234"
  },
  {
   "cell_type": "code",
   "execution_count": null,
   "outputs": [],
   "source": [],
   "metadata": {
    "collapsed": false
   },
   "id": "ebcfaa6c7d28e9a6"
  }
 ],
 "metadata": {
  "kernelspec": {
   "display_name": "Python 3",
   "language": "python",
   "name": "python3"
  },
  "language_info": {
   "codemirror_mode": {
    "name": "ipython",
    "version": 2
   },
   "file_extension": ".py",
   "mimetype": "text/x-python",
   "name": "python",
   "nbconvert_exporter": "python",
   "pygments_lexer": "ipython2",
   "version": "2.7.6"
  }
 },
 "nbformat": 4,
 "nbformat_minor": 5
}
