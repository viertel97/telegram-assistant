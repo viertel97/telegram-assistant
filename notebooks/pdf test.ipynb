{
 "cells": [
  {
   "cell_type": "code",
   "execution_count": 5,
   "metadata": {},
   "outputs": [],
   "source": [
    "import math\n",
    "import os\n",
    "import pandas as pd\n",
    "import fitz\n",
    "import pandas as pd\n",
    "from todoist_api_python.api import TodoistAPI\n",
    "from quarter_lib.akeyless import get_secrets\n",
    "TODOIST_TOKEN = get_secrets(\"todoist/token\")\n",
    "TODOIST_API = TodoistAPI(TODOIST_TOKEN)\n"
   ]
  },
  {
   "cell_type": "code",
   "execution_count": 2,
   "outputs": [],
   "source": [
    "def filter_content(task):\n",
    "    splitted = task['content'].split(\"\\n\\n\")\n",
    "    del (splitted[2])\n",
    "    temp_book = splitted.pop(2)[4:]\n",
    "    end = temp_book.find(\"'\")\n",
    "    task['book_title'] = temp_book[:end]\n",
    "    rest = temp_book[end:][6:]\n",
    "    end = rest.find(\"'\")\n",
    "    task['book_author'] = rest[:end]\n",
    "    for lang_task, language in zip(splitted, [\"de\", \"en\"]):\n",
    "        start = lang_task.find('\"')\n",
    "        end = lang_task.rfind('\"')\n",
    "        task[language + \"_content\"] = lang_task[start + 1:end]\n",
    "    return task\n",
    "\n",
    "\n",
    "def get_st_dev(list):\n",
    "    mean = sum(list) / len(list)\n",
    "    var = sum((l - mean) ** 2 for l in list) / len(list)\n",
    "    return math.sqrt(var)"
   ],
   "metadata": {
    "collapsed": false
   }
  },
  {
   "cell_type": "code",
   "execution_count": 3,
   "outputs": [],
   "source": [
    "tasks = TODOIST_API.get_tasks(project_id=\"2281154095\")\n",
    "tasks = [filter_content(task.__dict__) for task in tasks]"
   ],
   "metadata": {
    "collapsed": false
   }
  },
  {
   "cell_type": "code",
   "execution_count": 7,
   "outputs": [],
   "source": [
    "test = pd.DataFrame(tasks)"
   ],
   "metadata": {
    "collapsed": false
   }
  },
  {
   "cell_type": "code",
   "execution_count": 10,
   "outputs": [
    {
     "data": {
      "text/plain": "{'Klinische Psychologie und Psychotherapie, Band I': [0, 1, 2, 3, 4, 5, 6, 7, 8, 9, 10, 11], 'Models Attract Women Through Honesty': [12]}"
     },
     "execution_count": 10,
     "metadata": {},
     "output_type": "execute_result"
    }
   ],
   "source": [
    "test.groupby(\"book_title\").groups"
   ],
   "metadata": {
    "collapsed": false
   }
  },
  {
   "cell_type": "code",
   "execution_count": 23,
   "outputs": [
    {
     "name": "stdout",
     "output_type": "stream",
     "text": [
      "text to search: einige Autoren von erblichkeitseinflüssen von bis zu 60% für das Vorhandensein von Persönlichkeitsstörungen\n",
      "found 6 entries for einige Autoren von erblichkeitseinflüssen von bis zu 60% für das Vorhandensein von Persönlichkeitsstörungen\n",
      "text: einige Autoren von erblichkeitseinflüssen von bis zu 60% für das Vorhandensein von Persönlichkeitsstörungen\n",
      "text to search: zahlungsebene der sogenannten Spielebene gelöst werden kann immer werden Verhaltensweisen eingesetzt\n",
      "found 0 entries for zahlungsebene der sogenannten Spielebene gelöst werden kann immer werden Verhaltensweisen eingesetzt\n"
     ]
    }
   ],
   "source": [
    "doc = fitz.open(\"input.pdf\")\n",
    "for task in tasks[0:2]:\n",
    "    language = \"de\"\n",
    "    text_to_search = task[language + \"_content\"]\n",
    "    print(\"text to search: \" + text_to_search)\n",
    "    splitted_search_text = text_to_search.split(\" \")\n",
    "    findings = []\n",
    "    number_of_words_to_search = 4\n",
    "    for index in range(len(splitted_search_text)):\n",
    "        search_list = splitted_search_text[index: index + number_of_words_to_search]\n",
    "        if (len(search_list) == number_of_words_to_search):\n",
    "            words_to_search = (\" \").join(search_list)\n",
    "            for page in doc:\n",
    "                text_instances = page.search_for(words_to_search)\n",
    "                if len(text_instances):\n",
    "                    findings.append((page, text_instances, text_to_search))\n",
    "    print(f\"found {len(findings)} entries for {text_to_search}\")\n",
    "    if (len(findings)):\n",
    "        page_numbers = [page[0].number for page in findings]\n",
    "        if (get_st_dev(page_numbers) < 1):\n",
    "            try:\n",
    "                x0y0 = findings[0][1][0][0]\n",
    "                x0y1 = findings[0][1][0][1]\n",
    "                x1y0 = findings[len(findings) - 1][1][0][2]\n",
    "                x1y1 = findings[len(findings) - 1][1][0][3]\n",
    "                inst = fitz.Rect(x0y0, x0y1, x1y0, x1y1)\n",
    "                highlight = findings[0][0].add_highlight_annot(inst)\n",
    "                text = findings[0][2]\n",
    "                print(\"text: \" + text)\n",
    "                highlight.set_info({\"content\": text})\n",
    "                highlight.update()\n",
    "            except ValueError as e:\n",
    "                print(e)\n",
    "doc.save(\"output.pdf\")"
   ],
   "metadata": {
    "collapsed": false
   }
  },
  {
   "cell_type": "code",
   "execution_count": 107,
   "outputs": [
    {
     "data": {
      "text/plain": "178.18069458007812"
     },
     "execution_count": 107,
     "metadata": {},
     "output_type": "execute_result"
    }
   ],
   "source": [
    "findings[0][1][0][0]"
   ],
   "metadata": {
    "collapsed": false
   }
  },
  {
   "cell_type": "code",
   "execution_count": 86,
   "outputs": [],
   "source": [
    "list = [page[0].number for page in findings]"
   ],
   "metadata": {
    "collapsed": false
   }
  },
  {
   "cell_type": "code",
   "execution_count": 96,
   "outputs": [],
   "source": [
    "red = (1, 0, 0)\n",
    "blue = (0, 0, 1)\n",
    "gold = (1, 1, 0)\n",
    "green = (0, 1, 0)\n"
   ],
   "metadata": {
    "collapsed": false
   }
  },
  {
   "cell_type": "code",
   "execution_count": 98,
   "outputs": [],
   "source": [
    "doc = fitz.open(\"input.pdf\")\n",
    "\n",
    "for page, instance in findings:\n",
    "    highlight = page.add_highlight_annot(instance)\n",
    "    highlight.set_oc(stroke=blue, fill=green)\n",
    "    highlight.update()\n",
    "\n",
    "doc.save(\"output.pdf\", garbage=4, deflate=True, clean=True)"
   ],
   "metadata": {
    "collapsed": false
   }
  },
  {
   "cell_type": "code",
   "execution_count": 93,
   "outputs": [
    {
     "name": "stdout",
     "output_type": "stream",
     "text": [
      "'Highlight' annotation on page 174 of input.pdf\n"
     ]
    }
   ],
   "source": [
    "print(highlight)"
   ],
   "metadata": {
    "collapsed": false
   }
  },
  {
   "cell_type": "code",
   "execution_count": 94,
   "outputs": [
    {
     "name": "stdout",
     "output_type": "stream",
     "text": [
      "Warning: fill color ignored for annot type 'Highlight'.\n"
     ]
    }
   ],
   "source": [],
   "metadata": {
    "collapsed": false
   }
  },
  {
   "cell_type": "code",
   "execution_count": 95,
   "outputs": [],
   "source": [],
   "metadata": {
    "collapsed": false
   }
  },
  {
   "cell_type": "code",
   "execution_count": 89,
   "outputs": [
    {
     "data": {
      "text/plain": "[174, 174, 174, 224, 174, 174]"
     },
     "execution_count": 89,
     "metadata": {},
     "output_type": "execute_result"
    }
   ],
   "source": [
    "list"
   ],
   "metadata": {
    "collapsed": false
   }
  },
  {
   "cell_type": "code",
   "execution_count": 87,
   "outputs": [],
   "source": [
    "list[3] = list[3] + 50"
   ],
   "metadata": {
    "collapsed": false
   }
  },
  {
   "cell_type": "code",
   "execution_count": null,
   "outputs": [],
   "source": [],
   "metadata": {
    "collapsed": false
   }
  },
  {
   "cell_type": "code",
   "execution_count": 88,
   "outputs": [
    {
     "name": "stdout",
     "output_type": "stream",
     "text": [
      "Standard deviation of the given list: 18.633899812498246\n"
     ]
    }
   ],
   "source": [],
   "metadata": {
    "collapsed": false
   }
  },
  {
   "cell_type": "code",
   "execution_count": 93,
   "metadata": {},
   "outputs": [],
   "source": [
    "def highlight(doc, text, single_word_annotation_list):\n",
    "    for page in doc:\n",
    "        text_instances = page.search_for(text, quads=True)\n",
    "        if (len(text_instances) > 0):\n",
    "            if (text not in single_word_annotation_list):\n",
    "                highlight = page.add_highlight_annot(text_instances)\n",
    "                highlight.update()\n",
    "            if (text.count(' ') == 0):\n",
    "                single_word_annotation_list.append(text)"
   ]
  },
  {
   "cell_type": "code",
   "execution_count": 96,
   "metadata": {},
   "outputs": [
    {
     "name": "stdout",
     "output_type": "stream",
     "text": [
      "single word annotation: phenomenology\n",
      "single word annotation: phenomenology\n",
      "single word annotation: phenomenology\n",
      "single word annotation: phenomenology\n",
      "single word annotation: phenomenology\n",
      "single word annotation: phenomenology\n",
      "single word annotation: phenomenology\n",
      "single word annotation: phenomenology\n"
     ]
    }
   ],
   "source": [
    "doc = fitz.open(\"B.pdf\")\n",
    "single_word_annotation_list = []\n",
    "\n",
    "for line in lines:\n",
    "    if (line.startswith(\"#\")):\n",
    "        continue\n",
    "    elif (line.startswith(\"####\")):\n",
    "        continue\n",
    "    elif (line.startswith(\"#####\")):\n",
    "        continue\n",
    "    elif (line.startswith(\">\")):\n",
    "        continue\n",
    "    else:\n",
    "        highlight(doc, line.strip(), single_word_annotation_list)\n",
    "\n",
    "doc.save(\"output.pdf\", garbage=4, deflate=True, clean=True)"
   ]
  },
  {
   "cell_type": "code",
   "execution_count": 98,
   "metadata": {},
   "outputs": [],
   "source": [
    "from datetime import datetime\n",
    "from dateutil import parser"
   ]
  },
  {
   "cell_type": "code",
   "execution_count": 102,
   "metadata": {},
   "outputs": [],
   "source": [
    "test = datetime.now()"
   ]
  },
  {
   "cell_type": "code",
   "execution_count": 103,
   "metadata": {},
   "outputs": [],
   "source": [
    "test1 = parser.parse(\"02/09/2022, 10:46:36\")"
   ]
  },
  {
   "cell_type": "code",
   "execution_count": 105,
   "metadata": {},
   "outputs": [
    {
     "data": {
      "text/plain": [
       "208"
      ]
     },
     "execution_count": 105,
     "metadata": {},
     "output_type": "execute_result"
    }
   ],
   "source": [
    "(test - test1).seconds"
   ]
  },
  {
   "cell_type": "code",
   "execution_count": null,
   "metadata": {},
   "outputs": [],
   "source": []
  }
 ],
 "metadata": {
  "interpreter": {
   "hash": "9da0613d34e1e1ca86175d1b6c58dfb2b117094a061e42d17a1da596d1e846eb"
  },
  "kernelspec": {
   "display_name": "Python 3.9.2 64-bit",
   "language": "python",
   "name": "python3"
  },
  "language_info": {
   "codemirror_mode": {
    "name": "ipython",
    "version": 3
   },
   "file_extension": ".py",
   "mimetype": "text/x-python",
   "name": "python",
   "nbconvert_exporter": "python",
   "pygments_lexer": "ipython3",
   "version": "3.9.2"
  },
  "orig_nbformat": 4
 },
 "nbformat": 4,
 "nbformat_minor": 2
}
