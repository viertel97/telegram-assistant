{
 "cells": [
  {
   "cell_type": "code",
   "execution_count": 59,
   "metadata": {
    "collapsed": true,
    "ExecuteTime": {
     "start_time": "2023-06-16T12:46:23.673881Z",
     "end_time": "2023-06-16T12:46:23.685878Z"
    }
   },
   "outputs": [],
   "source": [
    "import os\n",
    "import uuid\n",
    "from datetime import datetime, timedelta\n",
    "\n",
    "import pandas as pd\n",
    "import requests\n",
    "from todoist_api_python.api import TodoistAPI\n",
    "from todoist_api_python.endpoints import get_sync_url\n",
    "from todoist_api_python.headers import create_headers\n",
    "\n",
    "HEADERS = create_headers(token=os.environ[\"TODOIST_TOKEN\"])\n",
    "TODOIST_API = TodoistAPI(os.environ[\"TODOIST_TOKEN\"])"
   ]
  },
  {
   "cell_type": "code",
   "execution_count": 11,
   "outputs": [],
   "source": [
    "def clean_api_response(api_response):\n",
    "    temp_list = []\n",
    "    for entry in api_response:\n",
    "        temp_list.append(entry.__dict__)\n",
    "    return pd.DataFrame(temp_list)\n",
    "\n",
    "\n",
    "df_items = clean_api_response(TODOIST_API.get_tasks())\n"
   ],
   "metadata": {
    "collapsed": false,
    "ExecuteTime": {
     "start_time": "2023-06-16T12:00:50.418001Z",
     "end_time": "2023-06-16T12:00:51.321140Z"
    }
   }
  },
  {
   "cell_type": "code",
   "execution_count": 13,
   "outputs": [
    {
     "data": {
      "text/plain": "Index(['assignee_id', 'assigner_id', 'comment_count', 'is_completed',\n       'content', 'created_at', 'creator_id', 'description', 'due', 'id',\n       'labels', 'order', 'parent_id', 'priority', 'project_id', 'section_id',\n       'url', 'sync_id'],\n      dtype='object')"
     },
     "execution_count": 13,
     "metadata": {},
     "output_type": "execute_result"
    }
   ],
   "source": [
    "df_items.columns"
   ],
   "metadata": {
    "collapsed": false,
    "ExecuteTime": {
     "start_time": "2023-06-16T12:00:59.415146Z",
     "end_time": "2023-06-16T12:00:59.436145Z"
    }
   }
  },
  {
   "cell_type": "code",
   "execution_count": null,
   "outputs": [],
   "source": [
    "TODOIST_API.get_tasks()"
   ],
   "metadata": {
    "collapsed": false
   }
  },
  {
   "cell_type": "code",
   "execution_count": 16,
   "outputs": [
    {
     "data": {
      "text/plain": "Index(['completed_at', 'content', 'id', 'meta_data', 'project_id',\n       'section_id', 'task_id', 'user_id'],\n      dtype='object')"
     },
     "execution_count": 16,
     "metadata": {},
     "output_type": "execute_result"
    }
   ],
   "source": [
    "df.columns"
   ],
   "metadata": {
    "collapsed": false,
    "ExecuteTime": {
     "start_time": "2023-06-16T12:01:18.367578Z",
     "end_time": "2023-06-16T12:01:18.382579Z"
    }
   }
  },
  {
   "cell_type": "code",
   "execution_count": 21,
   "outputs": [
    {
     "data": {
      "text/plain": "{'items': [{'completed_at': '2023-06-16T09:05:48.000000Z',\n   'content': 'Spülmaschine öffnen',\n   'id': '6402624610',\n   'meta_data': None,\n   'project_id': '2244725398',\n   'section_id': None,\n   'task_id': '6970897629',\n   'user_id': '29307554'},\n  {'completed_at': '2023-06-16T09:03:26.000000Z',\n   'content': 'Sport machen + Shake trinken',\n   'id': '6402619904',\n   'meta_data': None,\n   'project_id': '2244708745',\n   'section_id': '18496174',\n   'task_id': '4189829206',\n   'user_id': '29307554'},\n  {'completed_at': '2023-06-16T08:54:39.000000Z',\n   'content': 'Deo',\n   'id': '6402601604',\n   'meta_data': None,\n   'project_id': '2247224944',\n   'section_id': '124643194',\n   'task_id': '6970747030',\n   'user_id': '29307554'},\n  {'completed_at': '2023-06-16T08:54:37.000000Z',\n   'content': 'Sekundenkleber',\n   'id': '6402601540',\n   'meta_data': None,\n   'project_id': '2247224944',\n   'section_id': '43169072',\n   'task_id': '6954726156',\n   'user_id': '29307554'},\n  {'completed_at': '2023-06-16T08:49:59.000000Z',\n   'content': 'Basilikum',\n   'id': '6402591221',\n   'meta_data': None,\n   'project_id': '2247224944',\n   'section_id': '43169276',\n   'task_id': '6969825767',\n   'user_id': '29307554'},\n  {'completed_at': '2023-06-16T08:49:56.000000Z',\n   'content': 'Zimt',\n   'id': '6402591106',\n   'meta_data': None,\n   'project_id': '2247224944',\n   'section_id': '43169276',\n   'task_id': '6968142881',\n   'user_id': '29307554'},\n  {'completed_at': '2023-06-16T08:48:55.000000Z',\n   'content': 'Äpfel',\n   'id': '6402589074',\n   'meta_data': None,\n   'project_id': '2247224944',\n   'section_id': '25028879',\n   'task_id': '6968118981',\n   'user_id': '29307554'},\n  {'completed_at': '2023-06-16T08:48:26.000000Z',\n   'content': 'Mango',\n   'id': '6402588130',\n   'meta_data': None,\n   'project_id': '2247224944',\n   'section_id': '25028879',\n   'task_id': '6968119024',\n   'user_id': '29307554'},\n  {'completed_at': '2023-06-16T08:47:35.000000Z',\n   'content': 'Blaubeeren',\n   'id': '6402586396',\n   'meta_data': None,\n   'project_id': '2247224944',\n   'section_id': '25028879',\n   'task_id': '6965023077',\n   'user_id': '29307554'},\n  {'completed_at': '2023-06-16T07:08:33.000000Z',\n   'content': 'Meditieren (abends)',\n   'id': '6402388199',\n   'meta_data': None,\n   'project_id': '2244708745',\n   'section_id': '70858764',\n   'task_id': '5380309659',\n   'user_id': '29307554'},\n  {'completed_at': '2023-06-15T21:16:00.000000Z',\n   'content': 'Essens-Plan anfertigen + Dinge auf Einkaufliste schreiben',\n   'id': '6401554576',\n   'meta_data': None,\n   'project_id': '2244708745',\n   'section_id': '18695360',\n   'task_id': '5711260326',\n   'user_id': '29307554'},\n  {'completed_at': '2023-06-15T11:24:13.000000Z',\n   'content': 'Vitaminkonzentrat trinken + Omega 3 / Zink  nehmen',\n   'id': '6400074493',\n   'meta_data': None,\n   'project_id': '2244708745',\n   'section_id': '18496174',\n   'task_id': '5129582780',\n   'user_id': '29307554'},\n  {'completed_at': '2023-06-15T08:37:12.000000Z',\n   'content': \"'Spaziergang Julius' - nacharbeiten & Tracker pflegen\",\n   'id': '6399733764',\n   'meta_data': None,\n   'project_id': '2244725398',\n   'section_id': None,\n   'task_id': '6966841474',\n   'user_id': '29307554'},\n  {'completed_at': '2023-06-15T06:17:02.000000Z',\n   'content': 'Badezimmer-Mülleimer runterbringen',\n   'id': '6399463573',\n   'meta_data': None,\n   'project_id': '2244708745',\n   'section_id': None,\n   'task_id': '6964474748',\n   'user_id': '29307554'},\n  {'completed_at': '2023-06-15T06:17:01.000000Z',\n   'content': 'Gelber Sack / Restmüll runterbringen',\n   'id': '6399463558',\n   'meta_data': None,\n   'project_id': '2244708745',\n   'section_id': None,\n   'task_id': '6938750799',\n   'user_id': '29307554'},\n  {'completed_at': '2023-06-15T06:11:17.000000Z',\n   'content': 'Sport machen + Shake trinken',\n   'id': '6399454012',\n   'meta_data': None,\n   'project_id': '2244708745',\n   'section_id': '18496174',\n   'task_id': '4189829206',\n   'user_id': '29307554'},\n  {'completed_at': '2023-06-15T05:33:57.000000Z',\n   'content': 'Sport machen + Shake trinken',\n   'id': '6399396265',\n   'meta_data': None,\n   'project_id': '2244708745',\n   'section_id': '18496174',\n   'task_id': '4189829206',\n   'user_id': '29307554'},\n  {'completed_at': '2023-06-15T05:16:12.000000Z',\n   'content': 'Meditieren (abends)',\n   'id': '6399371050',\n   'meta_data': None,\n   'project_id': '2244708745',\n   'section_id': '70858764',\n   'task_id': '5380309659',\n   'user_id': '29307554'},\n  {'completed_at': '2023-06-15T04:54:01.000000Z',\n   'content': 'Julius',\n   'id': '6399341985',\n   'meta_data': None,\n   'project_id': '2242008419',\n   'section_id': None,\n   'task_id': '6966122819',\n   'user_id': '29307554'},\n  {'completed_at': '2023-06-14T21:00:58.000000Z',\n   'content': 'Meditieren (abends)',\n   'id': '6398673715',\n   'meta_data': None,\n   'project_id': '2244708745',\n   'section_id': '70858764',\n   'task_id': '5380309659',\n   'user_id': '29307554'},\n  {'completed_at': '2023-06-14T20:36:01.000000Z',\n   'content': 'Lesen',\n   'id': '6398616804',\n   'meta_data': None,\n   'project_id': '2244708745',\n   'section_id': '70858764',\n   'task_id': '5380372077',\n   'user_id': '29307554'},\n  {'completed_at': '2023-06-14T19:50:18.000000Z',\n   'content': 'Bedingungslose selbstlosigkeit überhaupt möglich?',\n   'id': '6398511464',\n   'meta_data': None,\n   'project_id': '2296630360',\n   'section_id': None,\n   'task_id': '6959574569',\n   'user_id': '29307554'},\n  {'completed_at': '2023-06-14T18:25:50.000000Z',\n   'content': 'Spülmaschine ausräumen + einräumen',\n   'id': '6398319447',\n   'meta_data': None,\n   'project_id': '2244725398',\n   'section_id': None,\n   'task_id': '6963322642',\n   'user_id': '29307554'},\n  {'completed_at': '2023-06-14T16:46:26.000000Z',\n   'content': '[Realized all I really need is a Daily Note](https://www.reddit.com/r/ObsidianMD/comments/147mkmz/realized_all_i_really_need_is_a_daily_note/?utm_source=share&utm_medium=android_app&utm_name=androidcss&utm_term=2&utm_content=share_button)',\n   'id': '6398086687',\n   'meta_data': None,\n   'project_id': '2242008419',\n   'section_id': None,\n   'task_id': '6960203027',\n   'user_id': '29307554'},\n  {'completed_at': '2023-06-14T16:46:02.000000Z',\n   'content': 'Monica activity types chatgpt',\n   'id': '6398085754',\n   'meta_data': None,\n   'project_id': '2242008419',\n   'section_id': None,\n   'task_id': '6963544241',\n   'user_id': '29307554'},\n  {'completed_at': '2023-06-14T15:11:18.000000Z',\n   'content': 'Emotional Intelligence Disc07 Daniel Goleman Emotional Intelligence Disc 7 09 EI.7.9-280.mp3 - add highlight to Zotero',\n   'id': '6397829598',\n   'meta_data': None,\n   'project_id': '2281154095',\n   'section_id': None,\n   'task_id': '6964893690',\n   'user_id': '29307554'},\n  {'completed_at': '2023-06-14T15:10:59.000000Z',\n   'content': 'Emotional Intelligence Disc07 Daniel Goleman Emotional Intelligence Disc 7 02 EI.7.2-158.mp3 - add highlight to Zotero',\n   'id': '6397828637',\n   'meta_data': None,\n   'project_id': '2281154095',\n   'section_id': None,\n   'task_id': '6955990316',\n   'user_id': '29307554'},\n  {'completed_at': '2023-06-14T12:15:11.000000Z',\n   'content': 'Vitaminkonzentrat trinken + Omega 3 / Zink  nehmen',\n   'id': '6397318322',\n   'meta_data': None,\n   'project_id': '2244708745',\n   'section_id': '18496174',\n   'task_id': '5129582780',\n   'user_id': '29307554'},\n  {'completed_at': '2023-06-14T12:15:06.000000Z',\n   'content': '“Attributionale Hilf- und Hoffnungslosigkeitstheorien Im Zuge der kognitiven Wende revidierten Abramson, Seligman und Teasdale (1978) das Modell der gelernten Hilflosigkeit und postulierten, dass eine depressive Störung dann entstehe, wenn negative Ereignisse auf internale, globale und stabile Ursachen zurückgeführt werden (. Abb. 4.3). Ein solcher Attributionsstil zeigt sich beispielsweise, wenn ein Patient einen beruflichen Misserfolg auf seine eigene »Dummheit« zurückführt (und nicht etwa mit Pech, einer schlechten Tagesform oder einer schlechten Vorbereitung durch seine Firma erklärt).” ([Berking and Rief, 2012, p. 37](zotero://select/library/items/QS7MBBJT)) ([pdf](zotero://open-pdf/library/items/PVXJ9FRF?page=47&annotation=76AVMMK7))   - Klinische Psychologie und Psychotherapie für Bachelor Band I - Obsidian-Eintrag überdenken',\n   'id': '6397318160',\n   'meta_data': None,\n   'project_id': '2301632406',\n   'section_id': None,\n   'task_id': '6549044805',\n   'user_id': '29307554'},\n  {'completed_at': '2023-06-14T10:32:18.000000Z',\n   'content': '[Change filename sent to Telegram](https://www.notion.so/Change-filename-sent-to-Telegram-c306c56fae394fde86e42c2e89aa21a8)',\n   'id': '6397084967',\n   'meta_data': None,\n   'project_id': '2244725398',\n   'section_id': None,\n   'task_id': '6956441426',\n   'user_id': '29307554'}],\n 'projects': {'2242008419': {'child_order': 0,\n   'collapsed': False,\n   'color': 'grey',\n   'id': '2242008419',\n   'inbox_project': True,\n   'is_archived': False,\n   'is_deleted': False,\n   'is_favorite': False,\n   'name': 'Inbox',\n   'parent_id': None,\n   'shared': False,\n   'sync_id': None,\n   'view_style': 'list'},\n  '2244708745': {'child_order': 2,\n   'collapsed': False,\n   'color': 'charcoal',\n   'id': '2244708745',\n   'is_archived': False,\n   'is_deleted': False,\n   'is_favorite': False,\n   'name': 'Habits',\n   'parent_id': '2244708715',\n   'shared': False,\n   'sync_id': None,\n   'view_style': 'list'},\n  '2244725398': {'child_order': 0,\n   'collapsed': False,\n   'color': 'blue',\n   'id': '2244725398',\n   'is_archived': False,\n   'is_deleted': False,\n   'is_favorite': True,\n   'name': 'THIS WEEK',\n   'parent_id': None,\n   'shared': False,\n   'sync_id': None,\n   'view_style': 'list'},\n  '2247224944': {'child_order': 18,\n   'collapsed': False,\n   'color': 'charcoal',\n   'id': '2247224944',\n   'is_archived': False,\n   'is_deleted': False,\n   'is_favorite': True,\n   'name': 'Einkaufsliste',\n   'parent_id': None,\n   'shared': True,\n   'sync_id': '8965005',\n   'view_style': 'list'},\n  '2281154095': {'child_order': 24,\n   'collapsed': False,\n   'color': 'charcoal',\n   'id': '2281154095',\n   'is_archived': False,\n   'is_deleted': False,\n   'is_favorite': False,\n   'name': 'Book-Notes',\n   'parent_id': None,\n   'shared': False,\n   'sync_id': None,\n   'view_style': 'list'},\n  '2296630360': {'child_order': 5,\n   'collapsed': False,\n   'color': 'charcoal',\n   'id': '2296630360',\n   'is_archived': False,\n   'is_deleted': False,\n   'is_favorite': True,\n   'name': '--- RETHINK ---',\n   'parent_id': None,\n   'shared': False,\n   'sync_id': None,\n   'view_style': 'list'},\n  '2301632406': {'child_order': 26,\n   'collapsed': False,\n   'color': 'charcoal',\n   'id': '2301632406',\n   'is_archived': False,\n   'is_deleted': False,\n   'is_favorite': False,\n   'name': 'Book-Rework 2',\n   'parent_id': None,\n   'shared': False,\n   'sync_id': None,\n   'view_style': 'list'}},\n 'sections': {'18496174': {'added_at': '2020-09-19T13:01:48.081400Z',\n   'archived_at': None,\n   'collapsed': False,\n   'id': '18496174',\n   'is_archived': False,\n   'is_deleted': False,\n   'name': 'Daily',\n   'project_id': '2244708745',\n   'section_order': 1,\n   'sync_id': None,\n   'user_id': '29307554'},\n  '18695360': {'added_at': '2020-09-21T09:08:42.028000Z',\n   'archived_at': None,\n   'collapsed': False,\n   'id': '18695360',\n   'is_archived': False,\n   'is_deleted': False,\n   'name': 'Weekly',\n   'project_id': '2244708745',\n   'section_order': 2,\n   'sync_id': None,\n   'user_id': '29307554'},\n  '25028879': {'added_at': '2020-11-06T09:50:29.026100Z',\n   'archived_at': None,\n   'collapsed': False,\n   'id': '25028879',\n   'is_archived': False,\n   'is_deleted': False,\n   'name': 'Obst Gemüse',\n   'project_id': '2247224944',\n   'section_order': 2,\n   'sync_id': '25028878',\n   'user_id': '29307554'},\n  '43169072': {'added_at': '2021-03-31T12:19:42.099400Z',\n   'archived_at': None,\n   'collapsed': False,\n   'id': '43169072',\n   'is_archived': False,\n   'is_deleted': False,\n   'name': 'Rest',\n   'project_id': '2247224944',\n   'section_order': 14,\n   'sync_id': '43169071',\n   'user_id': '29307554'},\n  '43169276': {'added_at': '2021-03-31T12:22:14.046200Z',\n   'archived_at': None,\n   'collapsed': False,\n   'id': '43169276',\n   'is_archived': False,\n   'is_deleted': False,\n   'name': 'Gewürze',\n   'project_id': '2247224944',\n   'section_order': 3,\n   'sync_id': '43169275',\n   'user_id': '29307554'},\n  '70858764': {'added_at': '2021-12-02T10:48:21.338000Z',\n   'archived_at': None,\n   'collapsed': False,\n   'id': '70858764',\n   'is_archived': False,\n   'is_deleted': False,\n   'name': 'Automation',\n   'project_id': '2244708745',\n   'section_order': 1,\n   'sync_id': None,\n   'user_id': '29307554'},\n  '124643194': {'added_at': '2023-05-26T12:11:34.622017Z',\n   'archived_at': None,\n   'collapsed': False,\n   'id': '124643194',\n   'is_archived': False,\n   'is_deleted': False,\n   'name': 'Unbekannt',\n   'project_id': '2247224944',\n   'section_order': 1,\n   'sync_id': '124643194',\n   'user_id': '29307554'}}}"
     },
     "execution_count": 21,
     "metadata": {},
     "output_type": "execute_result"
    }
   ],
   "source": [
    "test"
   ],
   "metadata": {
    "collapsed": false,
    "ExecuteTime": {
     "start_time": "2023-06-16T12:04:01.303608Z",
     "end_time": "2023-06-16T12:04:01.345616Z"
    }
   }
  },
  {
   "cell_type": "code",
   "execution_count": 33,
   "outputs": [
    {
     "data": {
      "text/plain": "'2023-06-13T12:08'"
     },
     "execution_count": 33,
     "metadata": {},
     "output_type": "execute_result"
    }
   ],
   "source": [
    "start_date = (datetime.today() - timedelta(days=int(3))).strftime(\"%Y-%m-%dT%H:%M\")\n",
    "start_date"
   ],
   "metadata": {
    "collapsed": false,
    "ExecuteTime": {
     "start_time": "2023-06-16T12:08:55.763500Z",
     "end_time": "2023-06-16T12:08:55.771503Z"
    }
   }
  },
  {
   "cell_type": "code",
   "execution_count": null,
   "outputs": [],
   "source": [
    "TODOIST_API.get_tasks()"
   ],
   "metadata": {
    "collapsed": false
   }
  },
  {
   "cell_type": "code",
   "execution_count": null,
   "outputs": [],
   "source": [
    "test = requests.post(\n",
    "    get_sync_url(\"completed/get_all\"),\n",
    "    data={\"limit\": 200, \"since\": start_date},\n",
    "    headers=HEADERS,\n",
    ").json()"
   ],
   "metadata": {
    "collapsed": false
   }
  },
  {
   "cell_type": "code",
   "execution_count": 50,
   "outputs": [],
   "source": [
    "test = requests.post(\n",
    "    get_sync_url(\"completed/get_all\"),\n",
    "    data={\"limit\": 200, \"since\": start_date},\n",
    "    headers=HEADERS,\n",
    ").json()"
   ],
   "metadata": {
    "collapsed": false,
    "ExecuteTime": {
     "start_time": "2023-06-16T12:42:52.874156Z",
     "end_time": "2023-06-16T12:42:53.974111Z"
    }
   }
  },
  {
   "cell_type": "code",
   "execution_count": 51,
   "outputs": [],
   "source": [
    "df = pd.DataFrame(test['items'])"
   ],
   "metadata": {
    "collapsed": false,
    "ExecuteTime": {
     "start_time": "2023-06-16T12:42:53.978108Z",
     "end_time": "2023-06-16T12:42:53.989108Z"
    }
   }
  },
  {
   "cell_type": "code",
   "execution_count": 52,
   "outputs": [
    {
     "data": {
      "text/plain": "                   completed_at  \\\n0   2023-06-16T10:42:50.000000Z   \n1   2023-06-16T09:05:48.000000Z   \n2   2023-06-16T09:03:26.000000Z   \n3   2023-06-16T08:54:39.000000Z   \n4   2023-06-16T08:54:37.000000Z   \n5   2023-06-16T08:49:59.000000Z   \n6   2023-06-16T08:49:56.000000Z   \n7   2023-06-16T08:48:55.000000Z   \n8   2023-06-16T08:48:26.000000Z   \n9   2023-06-16T08:47:35.000000Z   \n10  2023-06-16T07:08:33.000000Z   \n11  2023-06-15T21:16:00.000000Z   \n12  2023-06-15T11:24:13.000000Z   \n13  2023-06-15T08:37:12.000000Z   \n14  2023-06-15T06:17:02.000000Z   \n15  2023-06-15T06:17:01.000000Z   \n16  2023-06-15T06:11:17.000000Z   \n17  2023-06-15T05:33:57.000000Z   \n18  2023-06-15T05:16:12.000000Z   \n19  2023-06-15T04:54:01.000000Z   \n20  2023-06-14T21:00:58.000000Z   \n21  2023-06-14T20:36:01.000000Z   \n22  2023-06-14T19:50:18.000000Z   \n23  2023-06-14T18:25:50.000000Z   \n24  2023-06-14T16:46:26.000000Z   \n25  2023-06-14T16:46:02.000000Z   \n26  2023-06-14T15:11:18.000000Z   \n27  2023-06-14T15:10:59.000000Z   \n28  2023-06-14T12:15:11.000000Z   \n29  2023-06-14T12:15:06.000000Z   \n30  2023-06-14T10:32:18.000000Z   \n31  2023-06-14T08:56:28.000000Z   \n32  2023-06-14T08:56:26.000000Z   \n33  2023-06-14T06:45:38.000000Z   \n34  2023-06-14T05:11:07.000000Z   \n35  2023-06-13T21:03:43.000000Z   \n36  2023-06-13T20:40:04.000000Z   \n37  2023-06-13T20:39:36.000000Z   \n38  2023-06-13T19:57:47.000000Z   \n39  2023-06-13T19:57:44.000000Z   \n40  2023-06-13T18:17:53.000000Z   \n41  2023-06-13T15:56:41.000000Z   \n42  2023-06-13T15:52:50.000000Z   \n43  2023-06-13T15:48:29.000000Z   \n44  2023-06-13T15:47:57.000000Z   \n45  2023-06-13T15:47:28.000000Z   \n46  2023-06-13T15:47:27.000000Z   \n47  2023-06-13T15:44:34.000000Z   \n48  2023-06-13T15:42:13.000000Z   \n49  2023-06-13T15:41:43.000000Z   \n50  2023-06-13T14:27:04.000000Z   \n51  2023-06-13T14:24:55.000000Z   \n52  2023-06-13T14:24:54.000000Z   \n53  2023-06-13T14:24:52.000000Z   \n54  2023-06-13T12:22:10.000000Z   \n\n                                              content          id meta_data  \\\n0                                             Test123  6402819643      None   \n1                                 Spülmaschine öffnen  6402624610      None   \n2                        Sport machen + Shake trinken  6402619904      None   \n3                                                 Deo  6402601604      None   \n4                                      Sekundenkleber  6402601540      None   \n5                                           Basilikum  6402591221      None   \n6                                                Zimt  6402591106      None   \n7                                               Äpfel  6402589074      None   \n8                                               Mango  6402588130      None   \n9                                          Blaubeeren  6402586396      None   \n10                                Meditieren (abends)  6402388199      None   \n11  Essens-Plan anfertigen + Dinge auf Einkauflist...  6401554576      None   \n12  Vitaminkonzentrat trinken + Omega 3 / Zink  ne...  6400074493      None   \n13  'Spaziergang Julius' - nacharbeiten & Tracker ...  6399733764      None   \n14                 Badezimmer-Mülleimer runterbringen  6399463573      None   \n15               Gelber Sack / Restmüll runterbringen  6399463558      None   \n16                       Sport machen + Shake trinken  6399454012      None   \n17                       Sport machen + Shake trinken  6399396265      None   \n18                                Meditieren (abends)  6399371050      None   \n19                                             Julius  6399341985      None   \n20                                Meditieren (abends)  6398673715      None   \n21                                              Lesen  6398616804      None   \n22  Bedingungslose selbstlosigkeit überhaupt möglich?  6398511464      None   \n23                 Spülmaschine ausräumen + einräumen  6398319447      None   \n24  [Realized all I really need is a Daily Note](h...  6398086687      None   \n25                      Monica activity types chatgpt  6398085754      None   \n26  Emotional Intelligence Disc07 Daniel Goleman E...  6397829598      None   \n27  Emotional Intelligence Disc07 Daniel Goleman E...  6397828637      None   \n28  Vitaminkonzentrat trinken + Omega 3 / Zink  ne...  6397318322      None   \n29  “Attributionale Hilf- und Hoffnungslosigkeitst...  6397318160      None   \n30  [Change filename sent to Telegram](https://www...  6397084967      None   \n31  [Reading-List](https://www.notion.so/e88940d23...  6396885890      None   \n32  Kontoaufstellung (Excel, Banking 4A) + Vivid M...  6396885807      None   \n33                       Sport machen + Shake trinken  6396618473      None   \n34                                Meditieren (abends)  6396467087      None   \n35                                Meditieren (abends)  6395760829      None   \n36                              Elmex Gelee verwenden  6395707511      None   \n37                                              Lesen  6395706528      None   \n38                                    Wäsche abhängen  6395607563      None   \n39                                Spülmaschine öffnen  6395607447      None   \n40                            Frühstück fertig machen  6395369978      None   \n41                                             Tempos  6395010049      None   \n42                                            Mandeln  6394999261      None   \n43                                        Mandelmilch  6394987095      None   \n44                                              Kefir  6394985552      None   \n45                                               Skyr  6394984118      None   \n46                                            Joghurt  6394984073      None   \n47                                gestückelte Tomaten  6394975999      None   \n48                                             Ingwer  6394969231      None   \n49                                      Lauchzwiebeln  6394967882      None   \n50  Vitaminkonzentrat trinken + Omega 3 / Zink  ne...  6394739001      None   \n51          'Fluche' - nacharbeiten & Tracker pflegen  6394732671      None   \n52  'Chillen (Marvin, Kimberly)' - nacharbeiten & ...  6394732584      None   \n53                       Todoist refresher reparieren  6394732492      None   \n54                                             Julius  6394369649      None   \n\n    project_id section_id     task_id   user_id  \n0   2242008419       None  6971190050  29307554  \n1   2244725398       None  6970897629  29307554  \n2   2244708745   18496174  4189829206  29307554  \n3   2247224944  124643194  6970747030  29307554  \n4   2247224944   43169072  6954726156  29307554  \n5   2247224944   43169276  6969825767  29307554  \n6   2247224944   43169276  6968142881  29307554  \n7   2247224944   25028879  6968118981  29307554  \n8   2247224944   25028879  6968119024  29307554  \n9   2247224944   25028879  6965023077  29307554  \n10  2244708745   70858764  5380309659  29307554  \n11  2244708745   18695360  5711260326  29307554  \n12  2244708745   18496174  5129582780  29307554  \n13  2244725398       None  6966841474  29307554  \n14  2244708745       None  6964474748  29307554  \n15  2244708745       None  6938750799  29307554  \n16  2244708745   18496174  4189829206  29307554  \n17  2244708745   18496174  4189829206  29307554  \n18  2244708745   70858764  5380309659  29307554  \n19  2242008419       None  6966122819  29307554  \n20  2244708745   70858764  5380309659  29307554  \n21  2244708745   70858764  5380372077  29307554  \n22  2296630360       None  6959574569  29307554  \n23  2244725398       None  6963322642  29307554  \n24  2242008419       None  6960203027  29307554  \n25  2242008419       None  6963544241  29307554  \n26  2281154095       None  6964893690  29307554  \n27  2281154095       None  6955990316  29307554  \n28  2244708745   18496174  5129582780  29307554  \n29  2301632406       None  6549044805  29307554  \n30  2244725398       None  6956441426  29307554  \n31  2244708745   18695360  6286968678  29307554  \n32  2244708745       None  4185972330  29307554  \n33  2244708745   18496174  4189829206  29307554  \n34  2244708745   70858764  5380309659  29307554  \n35  2244708745   70858764  5380309659  29307554  \n36  2244708745   18695360  5885819280  29307554  \n37  2244708745   70858764  5380372077  29307554  \n38  2244725398       None  6956455743  29307554  \n39  2244725398       None  6963322374  29307554  \n40  2244708745   18496174  4183013938  29307554  \n41  2247224944   60300005  6956812161  29307554  \n42  2247224944  115500509  6925848519  29307554  \n43  2247224944   25028948  6962700810  29307554  \n44  2247224944   25028948  6937028256  29307554  \n45  2247224944   25028948  6962717266  29307554  \n46  2247224944   25028948  6958387865  29307554  \n47  2247224944   25028879  6962700895  29307554  \n48  2247224944   25028879  6962700928  29307554  \n49  2247224944   25028879  6962700864  29307554  \n50  2244708745   18496174  5129582780  29307554  \n51  2244725398       None  6957571860  29307554  \n52  2244725398       None  6953606826  29307554  \n53  2244725398       None  6953188819  29307554  \n54  2242008419       None  6959298529  29307554  ",
      "text/html": "<div>\n<style scoped>\n    .dataframe tbody tr th:only-of-type {\n        vertical-align: middle;\n    }\n\n    .dataframe tbody tr th {\n        vertical-align: top;\n    }\n\n    .dataframe thead th {\n        text-align: right;\n    }\n</style>\n<table border=\"1\" class=\"dataframe\">\n  <thead>\n    <tr style=\"text-align: right;\">\n      <th></th>\n      <th>completed_at</th>\n      <th>content</th>\n      <th>id</th>\n      <th>meta_data</th>\n      <th>project_id</th>\n      <th>section_id</th>\n      <th>task_id</th>\n      <th>user_id</th>\n    </tr>\n  </thead>\n  <tbody>\n    <tr>\n      <th>0</th>\n      <td>2023-06-16T10:42:50.000000Z</td>\n      <td>Test123</td>\n      <td>6402819643</td>\n      <td>None</td>\n      <td>2242008419</td>\n      <td>None</td>\n      <td>6971190050</td>\n      <td>29307554</td>\n    </tr>\n    <tr>\n      <th>1</th>\n      <td>2023-06-16T09:05:48.000000Z</td>\n      <td>Spülmaschine öffnen</td>\n      <td>6402624610</td>\n      <td>None</td>\n      <td>2244725398</td>\n      <td>None</td>\n      <td>6970897629</td>\n      <td>29307554</td>\n    </tr>\n    <tr>\n      <th>2</th>\n      <td>2023-06-16T09:03:26.000000Z</td>\n      <td>Sport machen + Shake trinken</td>\n      <td>6402619904</td>\n      <td>None</td>\n      <td>2244708745</td>\n      <td>18496174</td>\n      <td>4189829206</td>\n      <td>29307554</td>\n    </tr>\n    <tr>\n      <th>3</th>\n      <td>2023-06-16T08:54:39.000000Z</td>\n      <td>Deo</td>\n      <td>6402601604</td>\n      <td>None</td>\n      <td>2247224944</td>\n      <td>124643194</td>\n      <td>6970747030</td>\n      <td>29307554</td>\n    </tr>\n    <tr>\n      <th>4</th>\n      <td>2023-06-16T08:54:37.000000Z</td>\n      <td>Sekundenkleber</td>\n      <td>6402601540</td>\n      <td>None</td>\n      <td>2247224944</td>\n      <td>43169072</td>\n      <td>6954726156</td>\n      <td>29307554</td>\n    </tr>\n    <tr>\n      <th>5</th>\n      <td>2023-06-16T08:49:59.000000Z</td>\n      <td>Basilikum</td>\n      <td>6402591221</td>\n      <td>None</td>\n      <td>2247224944</td>\n      <td>43169276</td>\n      <td>6969825767</td>\n      <td>29307554</td>\n    </tr>\n    <tr>\n      <th>6</th>\n      <td>2023-06-16T08:49:56.000000Z</td>\n      <td>Zimt</td>\n      <td>6402591106</td>\n      <td>None</td>\n      <td>2247224944</td>\n      <td>43169276</td>\n      <td>6968142881</td>\n      <td>29307554</td>\n    </tr>\n    <tr>\n      <th>7</th>\n      <td>2023-06-16T08:48:55.000000Z</td>\n      <td>Äpfel</td>\n      <td>6402589074</td>\n      <td>None</td>\n      <td>2247224944</td>\n      <td>25028879</td>\n      <td>6968118981</td>\n      <td>29307554</td>\n    </tr>\n    <tr>\n      <th>8</th>\n      <td>2023-06-16T08:48:26.000000Z</td>\n      <td>Mango</td>\n      <td>6402588130</td>\n      <td>None</td>\n      <td>2247224944</td>\n      <td>25028879</td>\n      <td>6968119024</td>\n      <td>29307554</td>\n    </tr>\n    <tr>\n      <th>9</th>\n      <td>2023-06-16T08:47:35.000000Z</td>\n      <td>Blaubeeren</td>\n      <td>6402586396</td>\n      <td>None</td>\n      <td>2247224944</td>\n      <td>25028879</td>\n      <td>6965023077</td>\n      <td>29307554</td>\n    </tr>\n    <tr>\n      <th>10</th>\n      <td>2023-06-16T07:08:33.000000Z</td>\n      <td>Meditieren (abends)</td>\n      <td>6402388199</td>\n      <td>None</td>\n      <td>2244708745</td>\n      <td>70858764</td>\n      <td>5380309659</td>\n      <td>29307554</td>\n    </tr>\n    <tr>\n      <th>11</th>\n      <td>2023-06-15T21:16:00.000000Z</td>\n      <td>Essens-Plan anfertigen + Dinge auf Einkauflist...</td>\n      <td>6401554576</td>\n      <td>None</td>\n      <td>2244708745</td>\n      <td>18695360</td>\n      <td>5711260326</td>\n      <td>29307554</td>\n    </tr>\n    <tr>\n      <th>12</th>\n      <td>2023-06-15T11:24:13.000000Z</td>\n      <td>Vitaminkonzentrat trinken + Omega 3 / Zink  ne...</td>\n      <td>6400074493</td>\n      <td>None</td>\n      <td>2244708745</td>\n      <td>18496174</td>\n      <td>5129582780</td>\n      <td>29307554</td>\n    </tr>\n    <tr>\n      <th>13</th>\n      <td>2023-06-15T08:37:12.000000Z</td>\n      <td>'Spaziergang Julius' - nacharbeiten &amp; Tracker ...</td>\n      <td>6399733764</td>\n      <td>None</td>\n      <td>2244725398</td>\n      <td>None</td>\n      <td>6966841474</td>\n      <td>29307554</td>\n    </tr>\n    <tr>\n      <th>14</th>\n      <td>2023-06-15T06:17:02.000000Z</td>\n      <td>Badezimmer-Mülleimer runterbringen</td>\n      <td>6399463573</td>\n      <td>None</td>\n      <td>2244708745</td>\n      <td>None</td>\n      <td>6964474748</td>\n      <td>29307554</td>\n    </tr>\n    <tr>\n      <th>15</th>\n      <td>2023-06-15T06:17:01.000000Z</td>\n      <td>Gelber Sack / Restmüll runterbringen</td>\n      <td>6399463558</td>\n      <td>None</td>\n      <td>2244708745</td>\n      <td>None</td>\n      <td>6938750799</td>\n      <td>29307554</td>\n    </tr>\n    <tr>\n      <th>16</th>\n      <td>2023-06-15T06:11:17.000000Z</td>\n      <td>Sport machen + Shake trinken</td>\n      <td>6399454012</td>\n      <td>None</td>\n      <td>2244708745</td>\n      <td>18496174</td>\n      <td>4189829206</td>\n      <td>29307554</td>\n    </tr>\n    <tr>\n      <th>17</th>\n      <td>2023-06-15T05:33:57.000000Z</td>\n      <td>Sport machen + Shake trinken</td>\n      <td>6399396265</td>\n      <td>None</td>\n      <td>2244708745</td>\n      <td>18496174</td>\n      <td>4189829206</td>\n      <td>29307554</td>\n    </tr>\n    <tr>\n      <th>18</th>\n      <td>2023-06-15T05:16:12.000000Z</td>\n      <td>Meditieren (abends)</td>\n      <td>6399371050</td>\n      <td>None</td>\n      <td>2244708745</td>\n      <td>70858764</td>\n      <td>5380309659</td>\n      <td>29307554</td>\n    </tr>\n    <tr>\n      <th>19</th>\n      <td>2023-06-15T04:54:01.000000Z</td>\n      <td>Julius</td>\n      <td>6399341985</td>\n      <td>None</td>\n      <td>2242008419</td>\n      <td>None</td>\n      <td>6966122819</td>\n      <td>29307554</td>\n    </tr>\n    <tr>\n      <th>20</th>\n      <td>2023-06-14T21:00:58.000000Z</td>\n      <td>Meditieren (abends)</td>\n      <td>6398673715</td>\n      <td>None</td>\n      <td>2244708745</td>\n      <td>70858764</td>\n      <td>5380309659</td>\n      <td>29307554</td>\n    </tr>\n    <tr>\n      <th>21</th>\n      <td>2023-06-14T20:36:01.000000Z</td>\n      <td>Lesen</td>\n      <td>6398616804</td>\n      <td>None</td>\n      <td>2244708745</td>\n      <td>70858764</td>\n      <td>5380372077</td>\n      <td>29307554</td>\n    </tr>\n    <tr>\n      <th>22</th>\n      <td>2023-06-14T19:50:18.000000Z</td>\n      <td>Bedingungslose selbstlosigkeit überhaupt möglich?</td>\n      <td>6398511464</td>\n      <td>None</td>\n      <td>2296630360</td>\n      <td>None</td>\n      <td>6959574569</td>\n      <td>29307554</td>\n    </tr>\n    <tr>\n      <th>23</th>\n      <td>2023-06-14T18:25:50.000000Z</td>\n      <td>Spülmaschine ausräumen + einräumen</td>\n      <td>6398319447</td>\n      <td>None</td>\n      <td>2244725398</td>\n      <td>None</td>\n      <td>6963322642</td>\n      <td>29307554</td>\n    </tr>\n    <tr>\n      <th>24</th>\n      <td>2023-06-14T16:46:26.000000Z</td>\n      <td>[Realized all I really need is a Daily Note](h...</td>\n      <td>6398086687</td>\n      <td>None</td>\n      <td>2242008419</td>\n      <td>None</td>\n      <td>6960203027</td>\n      <td>29307554</td>\n    </tr>\n    <tr>\n      <th>25</th>\n      <td>2023-06-14T16:46:02.000000Z</td>\n      <td>Monica activity types chatgpt</td>\n      <td>6398085754</td>\n      <td>None</td>\n      <td>2242008419</td>\n      <td>None</td>\n      <td>6963544241</td>\n      <td>29307554</td>\n    </tr>\n    <tr>\n      <th>26</th>\n      <td>2023-06-14T15:11:18.000000Z</td>\n      <td>Emotional Intelligence Disc07 Daniel Goleman E...</td>\n      <td>6397829598</td>\n      <td>None</td>\n      <td>2281154095</td>\n      <td>None</td>\n      <td>6964893690</td>\n      <td>29307554</td>\n    </tr>\n    <tr>\n      <th>27</th>\n      <td>2023-06-14T15:10:59.000000Z</td>\n      <td>Emotional Intelligence Disc07 Daniel Goleman E...</td>\n      <td>6397828637</td>\n      <td>None</td>\n      <td>2281154095</td>\n      <td>None</td>\n      <td>6955990316</td>\n      <td>29307554</td>\n    </tr>\n    <tr>\n      <th>28</th>\n      <td>2023-06-14T12:15:11.000000Z</td>\n      <td>Vitaminkonzentrat trinken + Omega 3 / Zink  ne...</td>\n      <td>6397318322</td>\n      <td>None</td>\n      <td>2244708745</td>\n      <td>18496174</td>\n      <td>5129582780</td>\n      <td>29307554</td>\n    </tr>\n    <tr>\n      <th>29</th>\n      <td>2023-06-14T12:15:06.000000Z</td>\n      <td>“Attributionale Hilf- und Hoffnungslosigkeitst...</td>\n      <td>6397318160</td>\n      <td>None</td>\n      <td>2301632406</td>\n      <td>None</td>\n      <td>6549044805</td>\n      <td>29307554</td>\n    </tr>\n    <tr>\n      <th>30</th>\n      <td>2023-06-14T10:32:18.000000Z</td>\n      <td>[Change filename sent to Telegram](https://www...</td>\n      <td>6397084967</td>\n      <td>None</td>\n      <td>2244725398</td>\n      <td>None</td>\n      <td>6956441426</td>\n      <td>29307554</td>\n    </tr>\n    <tr>\n      <th>31</th>\n      <td>2023-06-14T08:56:28.000000Z</td>\n      <td>[Reading-List](https://www.notion.so/e88940d23...</td>\n      <td>6396885890</td>\n      <td>None</td>\n      <td>2244708745</td>\n      <td>18695360</td>\n      <td>6286968678</td>\n      <td>29307554</td>\n    </tr>\n    <tr>\n      <th>32</th>\n      <td>2023-06-14T08:56:26.000000Z</td>\n      <td>Kontoaufstellung (Excel, Banking 4A) + Vivid M...</td>\n      <td>6396885807</td>\n      <td>None</td>\n      <td>2244708745</td>\n      <td>None</td>\n      <td>4185972330</td>\n      <td>29307554</td>\n    </tr>\n    <tr>\n      <th>33</th>\n      <td>2023-06-14T06:45:38.000000Z</td>\n      <td>Sport machen + Shake trinken</td>\n      <td>6396618473</td>\n      <td>None</td>\n      <td>2244708745</td>\n      <td>18496174</td>\n      <td>4189829206</td>\n      <td>29307554</td>\n    </tr>\n    <tr>\n      <th>34</th>\n      <td>2023-06-14T05:11:07.000000Z</td>\n      <td>Meditieren (abends)</td>\n      <td>6396467087</td>\n      <td>None</td>\n      <td>2244708745</td>\n      <td>70858764</td>\n      <td>5380309659</td>\n      <td>29307554</td>\n    </tr>\n    <tr>\n      <th>35</th>\n      <td>2023-06-13T21:03:43.000000Z</td>\n      <td>Meditieren (abends)</td>\n      <td>6395760829</td>\n      <td>None</td>\n      <td>2244708745</td>\n      <td>70858764</td>\n      <td>5380309659</td>\n      <td>29307554</td>\n    </tr>\n    <tr>\n      <th>36</th>\n      <td>2023-06-13T20:40:04.000000Z</td>\n      <td>Elmex Gelee verwenden</td>\n      <td>6395707511</td>\n      <td>None</td>\n      <td>2244708745</td>\n      <td>18695360</td>\n      <td>5885819280</td>\n      <td>29307554</td>\n    </tr>\n    <tr>\n      <th>37</th>\n      <td>2023-06-13T20:39:36.000000Z</td>\n      <td>Lesen</td>\n      <td>6395706528</td>\n      <td>None</td>\n      <td>2244708745</td>\n      <td>70858764</td>\n      <td>5380372077</td>\n      <td>29307554</td>\n    </tr>\n    <tr>\n      <th>38</th>\n      <td>2023-06-13T19:57:47.000000Z</td>\n      <td>Wäsche abhängen</td>\n      <td>6395607563</td>\n      <td>None</td>\n      <td>2244725398</td>\n      <td>None</td>\n      <td>6956455743</td>\n      <td>29307554</td>\n    </tr>\n    <tr>\n      <th>39</th>\n      <td>2023-06-13T19:57:44.000000Z</td>\n      <td>Spülmaschine öffnen</td>\n      <td>6395607447</td>\n      <td>None</td>\n      <td>2244725398</td>\n      <td>None</td>\n      <td>6963322374</td>\n      <td>29307554</td>\n    </tr>\n    <tr>\n      <th>40</th>\n      <td>2023-06-13T18:17:53.000000Z</td>\n      <td>Frühstück fertig machen</td>\n      <td>6395369978</td>\n      <td>None</td>\n      <td>2244708745</td>\n      <td>18496174</td>\n      <td>4183013938</td>\n      <td>29307554</td>\n    </tr>\n    <tr>\n      <th>41</th>\n      <td>2023-06-13T15:56:41.000000Z</td>\n      <td>Tempos</td>\n      <td>6395010049</td>\n      <td>None</td>\n      <td>2247224944</td>\n      <td>60300005</td>\n      <td>6956812161</td>\n      <td>29307554</td>\n    </tr>\n    <tr>\n      <th>42</th>\n      <td>2023-06-13T15:52:50.000000Z</td>\n      <td>Mandeln</td>\n      <td>6394999261</td>\n      <td>None</td>\n      <td>2247224944</td>\n      <td>115500509</td>\n      <td>6925848519</td>\n      <td>29307554</td>\n    </tr>\n    <tr>\n      <th>43</th>\n      <td>2023-06-13T15:48:29.000000Z</td>\n      <td>Mandelmilch</td>\n      <td>6394987095</td>\n      <td>None</td>\n      <td>2247224944</td>\n      <td>25028948</td>\n      <td>6962700810</td>\n      <td>29307554</td>\n    </tr>\n    <tr>\n      <th>44</th>\n      <td>2023-06-13T15:47:57.000000Z</td>\n      <td>Kefir</td>\n      <td>6394985552</td>\n      <td>None</td>\n      <td>2247224944</td>\n      <td>25028948</td>\n      <td>6937028256</td>\n      <td>29307554</td>\n    </tr>\n    <tr>\n      <th>45</th>\n      <td>2023-06-13T15:47:28.000000Z</td>\n      <td>Skyr</td>\n      <td>6394984118</td>\n      <td>None</td>\n      <td>2247224944</td>\n      <td>25028948</td>\n      <td>6962717266</td>\n      <td>29307554</td>\n    </tr>\n    <tr>\n      <th>46</th>\n      <td>2023-06-13T15:47:27.000000Z</td>\n      <td>Joghurt</td>\n      <td>6394984073</td>\n      <td>None</td>\n      <td>2247224944</td>\n      <td>25028948</td>\n      <td>6958387865</td>\n      <td>29307554</td>\n    </tr>\n    <tr>\n      <th>47</th>\n      <td>2023-06-13T15:44:34.000000Z</td>\n      <td>gestückelte Tomaten</td>\n      <td>6394975999</td>\n      <td>None</td>\n      <td>2247224944</td>\n      <td>25028879</td>\n      <td>6962700895</td>\n      <td>29307554</td>\n    </tr>\n    <tr>\n      <th>48</th>\n      <td>2023-06-13T15:42:13.000000Z</td>\n      <td>Ingwer</td>\n      <td>6394969231</td>\n      <td>None</td>\n      <td>2247224944</td>\n      <td>25028879</td>\n      <td>6962700928</td>\n      <td>29307554</td>\n    </tr>\n    <tr>\n      <th>49</th>\n      <td>2023-06-13T15:41:43.000000Z</td>\n      <td>Lauchzwiebeln</td>\n      <td>6394967882</td>\n      <td>None</td>\n      <td>2247224944</td>\n      <td>25028879</td>\n      <td>6962700864</td>\n      <td>29307554</td>\n    </tr>\n    <tr>\n      <th>50</th>\n      <td>2023-06-13T14:27:04.000000Z</td>\n      <td>Vitaminkonzentrat trinken + Omega 3 / Zink  ne...</td>\n      <td>6394739001</td>\n      <td>None</td>\n      <td>2244708745</td>\n      <td>18496174</td>\n      <td>5129582780</td>\n      <td>29307554</td>\n    </tr>\n    <tr>\n      <th>51</th>\n      <td>2023-06-13T14:24:55.000000Z</td>\n      <td>'Fluche' - nacharbeiten &amp; Tracker pflegen</td>\n      <td>6394732671</td>\n      <td>None</td>\n      <td>2244725398</td>\n      <td>None</td>\n      <td>6957571860</td>\n      <td>29307554</td>\n    </tr>\n    <tr>\n      <th>52</th>\n      <td>2023-06-13T14:24:54.000000Z</td>\n      <td>'Chillen (Marvin, Kimberly)' - nacharbeiten &amp; ...</td>\n      <td>6394732584</td>\n      <td>None</td>\n      <td>2244725398</td>\n      <td>None</td>\n      <td>6953606826</td>\n      <td>29307554</td>\n    </tr>\n    <tr>\n      <th>53</th>\n      <td>2023-06-13T14:24:52.000000Z</td>\n      <td>Todoist refresher reparieren</td>\n      <td>6394732492</td>\n      <td>None</td>\n      <td>2244725398</td>\n      <td>None</td>\n      <td>6953188819</td>\n      <td>29307554</td>\n    </tr>\n    <tr>\n      <th>54</th>\n      <td>2023-06-13T12:22:10.000000Z</td>\n      <td>Julius</td>\n      <td>6394369649</td>\n      <td>None</td>\n      <td>2242008419</td>\n      <td>None</td>\n      <td>6959298529</td>\n      <td>29307554</td>\n    </tr>\n  </tbody>\n</table>\n</div>"
     },
     "execution_count": 52,
     "metadata": {},
     "output_type": "execute_result"
    }
   ],
   "source": [
    "df"
   ],
   "metadata": {
    "collapsed": false,
    "ExecuteTime": {
     "start_time": "2023-06-16T12:42:54.878379Z",
     "end_time": "2023-06-16T12:42:54.903377Z"
    }
   }
  },
  {
   "cell_type": "code",
   "execution_count": 55,
   "outputs": [],
   "source": [
    "completed_tasks = clean_api_response(TODOIST_API.get_tasks(ids=df.id.to_list()))"
   ],
   "metadata": {
    "collapsed": false,
    "ExecuteTime": {
     "start_time": "2023-06-16T12:43:10.650635Z",
     "end_time": "2023-06-16T12:43:10.926113Z"
    }
   }
  },
  {
   "cell_type": "code",
   "execution_count": 58,
   "outputs": [
    {
     "data": {
      "text/plain": "[]"
     },
     "execution_count": 58,
     "metadata": {},
     "output_type": "execute_result"
    }
   ],
   "source": [
    "TODOIST_API.get_tasks(ids=[\"6971190050\"])"
   ],
   "metadata": {
    "collapsed": false,
    "ExecuteTime": {
     "start_time": "2023-06-16T12:44:21.110491Z",
     "end_time": "2023-06-16T12:44:21.437970Z"
    }
   }
  },
  {
   "cell_type": "code",
   "execution_count": null,
   "outputs": [],
   "source": [],
   "metadata": {
    "collapsed": false
   }
  },
  {
   "cell_type": "code",
   "execution_count": 57,
   "outputs": [
    {
     "data": {
      "text/plain": "Task(assignee_id=None, assigner_id=None, comment_count=0, is_completed=True, content='Test123', created_at='2023-06-16T10:42:36.736875Z', creator_id='29307554', description='Test456', due=None, id='6971190050', labels=[], order=133, parent_id=None, priority=1, project_id='2242008419', section_id=None, url='https://todoist.com/showTask?id=6971190050', sync_id=None)"
     },
     "execution_count": 57,
     "metadata": {},
     "output_type": "execute_result"
    }
   ],
   "source": [
    "TODOIST_API.get_task(\"6971190050\")"
   ],
   "metadata": {
    "collapsed": false,
    "ExecuteTime": {
     "start_time": "2023-06-16T12:43:59.839932Z",
     "end_time": "2023-06-16T12:44:00.003225Z"
    }
   }
  },
  {
   "cell_type": "code",
   "execution_count": 56,
   "outputs": [
    {
     "data": {
      "text/plain": "Empty DataFrame\nColumns: []\nIndex: []",
      "text/html": "<div>\n<style scoped>\n    .dataframe tbody tr th:only-of-type {\n        vertical-align: middle;\n    }\n\n    .dataframe tbody tr th {\n        vertical-align: top;\n    }\n\n    .dataframe thead th {\n        text-align: right;\n    }\n</style>\n<table border=\"1\" class=\"dataframe\">\n  <thead>\n    <tr style=\"text-align: right;\">\n      <th></th>\n    </tr>\n  </thead>\n  <tbody>\n  </tbody>\n</table>\n</div>"
     },
     "execution_count": 56,
     "metadata": {},
     "output_type": "execute_result"
    }
   ],
   "source": [
    "completed_tasks"
   ],
   "metadata": {
    "collapsed": false,
    "ExecuteTime": {
     "start_time": "2023-06-16T12:43:11.465777Z",
     "end_time": "2023-06-16T12:43:11.489776Z"
    }
   }
  },
  {
   "cell_type": "code",
   "execution_count": 60,
   "outputs": [],
   "source": [
    "\n",
    "def run_sync_commands(commands):\n",
    "    return requests.post(\n",
    "        get_sync_url(\"sync\"),\n",
    "        headers=HEADERS,\n",
    "        json={\"commands\": commands},\n",
    "    )\n",
    "\n",
    "\n",
    "def run_todoist_sync_commands(commands):\n",
    "    for command in commands:\n",
    "        command[\"uuid\"] = str(uuid.uuid4())\n",
    "        if not command.get(\"temp_id\"):\n",
    "            command[\"temp_id\"] = (str(uuid.uuid4()),)\n",
    "    return run_sync_commands(commands)"
   ],
   "metadata": {
    "collapsed": false,
    "ExecuteTime": {
     "start_time": "2023-06-16T12:50:32.881760Z",
     "end_time": "2023-06-16T12:50:32.887762Z"
    }
   }
  },
  {
   "cell_type": "code",
   "execution_count": 63,
   "outputs": [],
   "source": [
    "command_list = []\n",
    "command_list.append(\n",
    "            {\n",
    "                \"type\": \"get_item\",\n",
    "                \"args\": {\"item_id\": \"6971190050\"}\n",
    "            }\n",
    "        )\n",
    "sync_command_results = run_todoist_sync_commands(command_list).json()"
   ],
   "metadata": {
    "collapsed": false,
    "ExecuteTime": {
     "start_time": "2023-06-16T12:50:43.582695Z",
     "end_time": "2023-06-16T12:50:43.824304Z"
    }
   }
  },
  {
   "cell_type": "code",
   "execution_count": 64,
   "outputs": [
    {
     "data": {
      "text/plain": "{'full_sync': True,\n 'sync_status': {'9df2c85c-a60f-4188-bc12-6775f6c87793': {'error': 'An invalid sync command was sent',\n   'error_code': 39,\n   'error_extra': {'command': 'get_item'},\n   'error_tag': 'INVALID_COMMAND',\n   'http_code': 400}},\n 'sync_token': 'OtdppVFSOlHBd2gr2L-hAxFoXBVm6-187WMkjXAu-vhG-V-P3hZruQyuHEdSPd7nRj-bXqaB9bkortB-q6eY1QUAfzQFhFgzw5w97uIJrZtMBfV2',\n 'temp_id_mapping': {}}"
     },
     "execution_count": 64,
     "metadata": {},
     "output_type": "execute_result"
    }
   ],
   "source": [
    "sync_command_results"
   ],
   "metadata": {
    "collapsed": false,
    "ExecuteTime": {
     "start_time": "2023-06-16T12:50:44.539406Z",
     "end_time": "2023-06-16T12:50:44.546404Z"
    }
   }
  },
  {
   "cell_type": "code",
   "execution_count": null,
   "outputs": [],
   "source": [],
   "metadata": {
    "collapsed": false
   }
  }
 ],
 "metadata": {
  "kernelspec": {
   "display_name": "Python 3",
   "language": "python",
   "name": "python3"
  },
  "language_info": {
   "codemirror_mode": {
    "name": "ipython",
    "version": 2
   },
   "file_extension": ".py",
   "mimetype": "text/x-python",
   "name": "python",
   "nbconvert_exporter": "python",
   "pygments_lexer": "ipython2",
   "version": "2.7.6"
  }
 },
 "nbformat": 4,
 "nbformat_minor": 0
}
