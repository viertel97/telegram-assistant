{
 "cells": [
  {
   "cell_type": "code",
   "execution_count": 1,
   "outputs": [],
   "source": [
    "\n",
    "import os\n",
    "\n",
    "from dotenv import load_dotenv\n",
    "from quarter_lib.logging import setup_logging\n"
   ],
   "metadata": {
    "collapsed": false,
    "ExecuteTime": {
     "end_time": "2023-08-25T15:37:42.674441200Z",
     "start_time": "2023-08-25T15:37:42.640713300Z"
    }
   }
  },
  {
   "cell_type": "code",
   "execution_count": 2,
   "outputs": [],
   "source": [
    "\n",
    "values_loaded = load_dotenv(\"cred.env\")\n",
    "\n",
    "ACCESS_ID = os.getenv('access_id')\n",
    "ACCESS_KEY = os.getenv('access_key')"
   ],
   "metadata": {
    "collapsed": false,
    "ExecuteTime": {
     "end_time": "2023-08-25T15:37:42.676957Z",
     "start_time": "2023-08-25T15:37:42.672276600Z"
    }
   }
  },
  {
   "cell_type": "code",
   "execution_count": 6,
   "metadata": {
    "collapsed": true,
    "ExecuteTime": {
     "end_time": "2023-08-25T15:43:52.336016500Z",
     "start_time": "2023-08-25T15:43:51.271585600Z"
    }
   },
   "outputs": [
    {
     "name": "stdout",
     "output_type": "stream",
     "text": [
      "{'creds': None, 'token': 't-897e82d156153834c21489a6988758e6'}\n",
      "{'telegram/token': '5097655165:AAGSpEcH860oSts2F1OTdprxgKO-mTI83Y8'}\n"
     ]
    }
   ],
   "source": [
    "import akeyless\n",
    "\n",
    "# Defining the host is optional and defaults to https://api.akeyless.io\n",
    "# See configuration.py for a list of all supported configuration parameters.\n",
    "configuration = akeyless.Configuration(\n",
    "    # default: public API Gateway\n",
    "    host=\"https://api.akeyless.io\"\n",
    "\n",
    "    # use port 8081 exposed by the deployment:\n",
    "    # host = \"https://gateway.company.com:8081\"\n",
    "\n",
    "    # use port 8080 exposed by the deployment with /v2 prefix:\n",
    "    # host = \"https://gateway.company.com:8080/v2\"\n",
    ")\n",
    "\n",
    "api_client = akeyless.ApiClient(configuration)\n",
    "api = akeyless.V2Api(api_client)\n",
    "\n",
    "body = akeyless.Auth(access_id=ACCESS_ID, access_key=ACCESS_KEY)\n",
    "res = api.auth(body)\n",
    "token = res.token\n",
    "print(res)\n",
    "\n",
    "body = akeyless.GetSecretValue(names=['telegram/token'], token=token)\n",
    "res = api.get_secret_value(body)\n",
    "print(res)  # some-value"
   ]
  },
  {
   "cell_type": "code",
   "execution_count": null,
   "outputs": [],
   "source": [],
   "metadata": {
    "collapsed": false
   }
  }
 ],
 "metadata": {
  "kernelspec": {
   "display_name": "Python 3",
   "language": "python",
   "name": "python3"
  },
  "language_info": {
   "codemirror_mode": {
    "name": "ipython",
    "version": 2
   },
   "file_extension": ".py",
   "mimetype": "text/x-python",
   "name": "python",
   "nbconvert_exporter": "python",
   "pygments_lexer": "ipython2",
   "version": "2.7.6"
  }
 },
 "nbformat": 4,
 "nbformat_minor": 0
}
