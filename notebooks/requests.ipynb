{
 "cells": [
  {
   "cell_type": "code",
   "execution_count": 3,
   "metadata": {},
   "outputs": [],
   "source": [
    "import os\n",
    "import re\n",
    "from datetime import datetime, timedelta\n",
    "\n",
    "import pandas as pd\n",
    "import todoist\n",
    "from bs4 import BeautifulSoup\n",
    "from quarter_lib.akeyless import get_secrets\n",
    "TODOIST_TOKEN = get_secrets(\"todoist/token\")\n",
    "TODOIST_API = TodoistAPI(TODOIST_TOKEN)\n",
    "\n",
    "CHECKED = \"Yes\"\n",
    "UNCHECKED = \"No\"\n",
    "\n",
    "\n",
    "def get_labels(labels, df_labels):\n",
    "    is_checked = UNCHECKED\n",
    "    label_list = []\n",
    "    for label_id in labels:\n",
    "        label = df_labels.loc[df_labels.id == label_id].name\n",
    "        label_list.append(label)\n",
    "        if \"DONE\" in str(label):\n",
    "            is_checked = CHECKED\n",
    "            label_list.remove(label)\n",
    "    return [item for sublist in label_list for item in sublist], is_checked\n",
    "\n",
    "\n",
    "def clen_api_response(api_response):\n",
    "    temp_list = []\n",
    "    for entry in api_response:\n",
    "        temp_list.append(entry.data)\n",
    "    return pd.DataFrame(temp_list)\n",
    "\n",
    "\n",
    "def filter_data(days):\n",
    "    TODOIST_API.sync()\n",
    "    df_items = clen_api_response(TODOIST_API.items.all())\n",
    "    df_items = df_items[df_items.checked == 0]\n",
    "    df_notes = clen_api_response(TODOIST_API.notes.all())\n",
    "    df_labels = clen_api_response(TODOIST_API.labels.all())\n",
    "\n",
    "    start_date = (datetime.today() - timedelta(days=int(days))).strftime(\"%Y-%m-%d\")\n",
    "\n",
    "    after_start_date = df_items[\"date_added\"] >= start_date\n",
    "    df_filtered_items = df_items.loc[after_start_date]\n",
    "\n",
    "    cleared_list = []\n",
    "    for index, row in df_filtered_items.iterrows():\n",
    "        comments = None\n",
    "\n",
    "        row_id = row[\"id\"]\n",
    "        date_added = row[\"date_added\"]\n",
    "        content = row[\"content\"]\n",
    "        priority = row[\"priority\"]\n",
    "        description = row[\"description\"]\n",
    "        notes = df_notes[df_notes.item_id == row_id]\n",
    "        labels, checked = get_labels(df_filtered_items.loc[index, \"labels\"], df_labels)\n",
    "\n",
    "        if len(notes) > 0:\n",
    "            comments = notes[\"content\"].values\n",
    "        cleared_list.append(\n",
    "            {\n",
    "                \"id\": row_id,\n",
    "                \"checked\": checked,\n",
    "                \"date_added\": date_added,\n",
    "                \"content\": content,\n",
    "                \"priority\": int(priority),\n",
    "                \"comments\": comments,\n",
    "                \"labels\": labels,\n",
    "                \"description\": description,\n",
    "            }\n",
    "        )\n",
    "\n",
    "    filtered_dates = pd.DataFrame(cleared_list)\n",
    "\n",
    "    filtered_dates.sort_values(by=\"date_added\", inplace=True)\n",
    "    filtered_dates.reset_index(drop=True, inplace=True)\n",
    "\n",
    "    filtered_dates[\"temp_date\"] = pd.to_datetime(filtered_dates[\"date_added\"])\n",
    "    filtered_dates[\"temp_date\"] = filtered_dates[\"temp_date\"] + pd.Timedelta(\"02:00:00\")\n",
    "    filtered_dates[\"temp_date_string\"] = filtered_dates[\"temp_date\"].dt.strftime(\"%d.%m.%Y %H:%M\")\n",
    "    filtered_dates = filtered_dates.drop([\"temp_date\", \"date_added\"], axis=1)\n",
    "    filtered_dates = filtered_dates.rename(columns={\"temp_date_string\": \"date_added\"})\n",
    "    filtered_dates[\"content\"] = filtered_dates[\"content\"].str.replace('\"', \"\")\n",
    "    filtered_dates[\"source\"] = \"Todoist\"\n",
    "    filtered_dates[\"rework-comments\"] = \"\"\n",
    "    filtered_dates = filtered_dates[\n",
    "        [\n",
    "            \"checked\",\n",
    "            \"date_added\",\n",
    "            \"content\",\n",
    "            \"rework-comments\",\n",
    "            \"priority\",\n",
    "            \"comments\",\n",
    "            \"description\",\n",
    "            \"labels\",\n",
    "            \"source\",\n",
    "            \"id\",\n",
    "        ]\n",
    "    ]\n",
    "\n",
    "    match = \"^(([1-9]|[0-2]\\d|[3][0-1])\\.([1-9]|[0]\\d|[1][0-2])\\.[2][0]\\d{2})$|^(([1-9]|[0-2]\\d|[3][0-1])\\.([1-9]|[0]\\d|[1][0-2])\\.[2][0]\\d{2}\\s([1-9]|[0-1]\\d|[2][0-3])\\:[0-5]\\d.*)$\"\n",
    "\n",
    "    for index, row in filtered_dates.iterrows():\n",
    "        filtered_dates.at[index, \"comments\"] = \" | \".join(row[\"comments\"]) if row[\"comments\"] is not None else \"\"\n",
    "        filtered_dates.at[index, \"labels\"] = \" | \".join(row[\"labels\"]) if row[\"labels\"] is not None else \"\"\n",
    "\n",
    "        content = row[2]\n",
    "        if re.match(match, content):\n",
    "            date_array = content.split(\" \")\n",
    "            date = date_array[0] + \" \" + date_array[1]\n",
    "            filtered_dates.at[index, \"date_added\"] = date\n",
    "            new_content = content.split(date)[1][2:]\n",
    "            filtered_dates.at[index, \"content\"] = new_content\n",
    "            filtered_dates.at[index, \"source\"] = \"Voice Recorder\"\n",
    "    filtered_dates = filtered_dates.sort_values(\"date_added\")\n",
    "    return filtered_dates\n",
    "\n",
    "\n",
    "def format_html(data):\n",
    "    data[\"checked\"].replace(\"No\", \"❌\", inplace=True)\n",
    "    data[\"checked\"].replace(\"Yes\", \"✔️\", inplace=True)\n",
    "    soup = BeautifulSoup(data.to_html())\n",
    "    for i in soup.findAll(\"th\"):\n",
    "        if i.text.isnumeric():\n",
    "            i.name = \"td\"\n",
    "    return str(soup)\n",
    "\n",
    "def format_md(data):\n",
    "    data[\"checked\"].replace(\"No\", \"❌\", inplace=True)\n",
    "    data[\"checked\"].replace(\"Yes\", \"✔️\", inplace=True)\n",
    "    return data.to_markdown(tablefmt=\"pipe\")\n",
    "    \n",
    "\n",
    "def get_grabber_data():\n",
    "    data = filter_data(3)\n",
    "    data.drop(\"id\", axis=1, inplace=True)\n",
    "    return data\n"
   ]
  },
  {
   "cell_type": "code",
   "execution_count": 4,
   "metadata": {},
   "outputs": [],
   "source": [
    "df = get_grabber_data()"
   ]
  },
  {
   "cell_type": "code",
   "execution_count": 15,
   "metadata": {},
   "outputs": [],
   "source": [
    "f = open(\"demofile2.txt\", \"w\", encoding=\"utf-8\")\n",
    "f.write(format_md(df))\n",
    "f.close()"
   ]
  },
  {
   "cell_type": "code",
   "execution_count": 4,
   "metadata": {},
   "outputs": [
    {
     "name": "stdout",
     "output_type": "stream",
     "text": [
      "2022-08-18T17:54:23+02:00\n"
     ]
    }
   ],
   "source": [
    "from datetime import datetime\n",
    "from zoneinfo import ZoneInfo\n",
    "\n",
    "server_timezone = \n",
    "\n",
    "current_time = datetime.now(ZoneInfo(\"Europe/Berlin\")) \n",
    "print(current_time.isoformat(timespec='seconds'))\n"
   ]
  },
  {
   "cell_type": "code",
   "execution_count": 5,
   "metadata": {},
   "outputs": [
    {
     "data": {
      "text/plain": [
       "'2022-08-18'"
      ]
     },
     "execution_count": 5,
     "metadata": {},
     "output_type": "execute_result"
    }
   ],
   "source": [
    "current_time.strftime(\"%Y-%m-%d\")"
   ]
  },
  {
   "cell_type": "code",
   "execution_count": null,
   "metadata": {},
   "outputs": [],
   "source": []
  }
 ],
 "metadata": {
  "kernelspec": {
   "display_name": "Python 3.9.2 64-bit",
   "language": "python",
   "name": "python3"
  },
  "language_info": {
   "codemirror_mode": {
    "name": "ipython",
    "version": 3
   },
   "file_extension": ".py",
   "mimetype": "text/x-python",
   "name": "python",
   "nbconvert_exporter": "python",
   "pygments_lexer": "ipython3",
   "version": "3.9.2"
  },
  "orig_nbformat": 4,
  "vscode": {
   "interpreter": {
    "hash": "352edc4087f68c96c15e577ac6302222e7e16fd853f042d161437fa12d973cca"
   }
  }
 },
 "nbformat": 4,
 "nbformat_minor": 2
}
