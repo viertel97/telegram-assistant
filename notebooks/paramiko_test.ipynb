{
 "cells": [
  {
   "cell_type": "code",
   "execution_count": 30,
   "metadata": {},
   "outputs": [],
   "source": [
    "import paramiko\n",
    "\n",
    "NOTES_PI_SERVER = \"192.168.178.41\"\n",
    "SERVER = \"192.168.178.100\"\n",
    "USERNAME = \"pi\"\n",
    "PASSWORD = \"wasserturm\"\n",
    "PI_PYTHON_PATH = \"/home/pi/code\"\n",
    "\n",
    "PM2_PATH = \"/home/pi/.config/nvm/versions/node/v16.18.0/bin\""
   ]
  },
  {
   "cell_type": "code",
   "execution_count": 31,
   "metadata": {},
   "outputs": [],
   "source": [
    "ssh = paramiko.SSHClient()\n",
    "ssh.set_missing_host_key_policy(paramiko.AutoAddPolicy())\n",
    "ssh.connect(SERVER, username=USERNAME, password=PASSWORD)"
   ]
  },
  {
   "cell_type": "code",
   "execution_count": 32,
   "metadata": {},
   "outputs": [
    {
     "name": "stdout",
     "output_type": "stream",
     "text": [
      "bash: line 1: pm2: command not found\n"
     ]
    }
   ],
   "source": [
    "command = \"pm2 ls\"\n",
    "ssh_stdin, ssh_stdout, ssh_stderr = ssh.exec_command(command)\n",
    "for line in iter(ssh_stdout.readline, \"\"):\n",
    "    print(line, end=\"\")\n",
    "for line in iter(ssh_stderr.readline, \"\"):\n",
    "    print(line, end=\"\")"
   ]
  },
  {
   "cell_type": "code",
   "execution_count": 25,
   "metadata": {},
   "outputs": [
    {
     "name": "stdout",
     "output_type": "stream",
     "text": [
      "/usr/bin/env: ‘node’: No such file or directory\n"
     ]
    }
   ],
   "source": [
    "command = \"cd \" + PM2_PATH + \"; ./pm2 ls\"\n",
    "ssh_stdin, ssh_stdout, ssh_stderr = ssh.exec_command(command)\n",
    "for line in iter(ssh_stdout.readline, \"\"):\n",
    "    print(line, end=\"\")\n",
    "for line in iter(ssh_stderr.readline, \"\"):\n",
    "    print(line, end=\"\")"
   ]
  },
  {
   "cell_type": "code",
   "execution_count": 26,
   "metadata": {},
   "outputs": [],
   "source": [
    "ssh.close()"
   ]
  },
  {
   "cell_type": "code",
   "execution_count": 34,
   "metadata": {},
   "outputs": [
    {
     "name": "stdout",
     "output_type": "stream",
     "text": [
      ".\n",
      "..\n",
      ".bash_history\n",
      ".bash_logout\n",
      ".bashrc\n",
      "Bookshelf\n",
      ".cache\n",
      "code\n",
      ".config\n",
      ".cups\n",
      "Desktop\n",
      "Documents\n",
      "Downloads\n",
      ".env\n",
      ".local\n",
      "monica\n",
      "Music\n",
      ".npm\n",
      "Pictures\n",
      ".pm2\n",
      ".profile\n",
      "Public\n",
      "Templates\n",
      "Videos\n",
      ".vnc\n",
      ".wget-hsts\n",
      ".Xauthority\n",
      ".xsession-errors\n",
      ".xsession-errors.old\n",
      ".\n",
      "..\n",
      ".bash_history\n",
      ".bash_logout\n",
      ".bashrc\n",
      "Bookshelf\n",
      ".cache\n",
      "code\n",
      ".config\n",
      ".cups\n",
      "Desktop\n",
      "Documents\n",
      "Downloads\n",
      ".env\n",
      ".local\n",
      "monica\n",
      "Music\n",
      ".npm\n",
      "Pictures\n",
      ".pm2\n",
      ".profile\n",
      "Public\n",
      "Templates\n",
      "Videos\n",
      ".vnc\n",
      ".wget-hsts\n",
      ".Xauthority\n",
      ".xsession-errors\n",
      ".xsession-errors.old\n"
     ]
    }
   ],
   "source": [
    "command = \"ls -a;sleep 10;ls -a\"\n",
    "ssh_stdin, ssh_stdout, ssh_stderr = ssh.exec_command(command)\n",
    "for line in iter(ssh_stdout.readline, \"\"):\n",
    "    print(line, end=\"\")\n",
    "for line in iter(ssh_stderr.readline, \"\"):\n",
    "    print(line, end=\"\")"
   ]
  },
  {
   "cell_type": "code",
   "execution_count": null,
   "metadata": {},
   "outputs": [],
   "source": []
  }
 ],
 "metadata": {
  "kernelspec": {
   "display_name": "Python 3.9.2 ('venv': venv)",
   "language": "python",
   "name": "python3"
  },
  "language_info": {
   "codemirror_mode": {
    "name": "ipython",
    "version": 3
   },
   "file_extension": ".py",
   "mimetype": "text/x-python",
   "name": "python",
   "nbconvert_exporter": "python",
   "pygments_lexer": "ipython3",
   "version": "3.9.2"
  },
  "orig_nbformat": 4,
  "vscode": {
   "interpreter": {
    "hash": "7704a02d12e46356e3f3803e5a82eefe3d4b4ebf2063b61425891d2eab05e0cc"
   }
  }
 },
 "nbformat": 4,
 "nbformat_minor": 2
}
