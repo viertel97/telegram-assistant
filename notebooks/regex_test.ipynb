{
 "cells": [
  {
   "cell_type": "code",
   "execution_count": 1,
   "metadata": {},
   "outputs": [],
   "source": [
    "import re\n"
   ]
  },
  {
   "cell_type": "code",
   "execution_count": 59,
   "metadata": {},
   "outputs": [],
   "source": [
    "test = \"'one-on-one mit Jakob vorbereiten' was recorded during meditation at '2022-10-30 22:56:21'. Anything to review?\"\n"
   ]
  },
  {
   "cell_type": "code",
   "execution_count": 38,
   "metadata": {},
   "outputs": [
    {
     "data": {
      "text/plain": [
       "\"'one-on-one mit Jakob vorbereiten' was recorded during meditation at '2022-10-30 22:56:21'.\""
      ]
     },
     "execution_count": 38,
     "metadata": {},
     "output_type": "execute_result"
    }
   ],
   "source": [
    "re.search(\"['].+['].\", test).group(0)"
   ]
  },
  {
   "cell_type": "code",
   "execution_count": 55,
   "metadata": {},
   "outputs": [],
   "source": [
    "re.compile(EASY_VOICE_RECORDER_MATCH).match(test)"
   ]
  },
  {
   "cell_type": "code",
   "execution_count": 50,
   "metadata": {},
   "outputs": [
    {
     "data": {
      "text/plain": [
       "re.Match"
      ]
     },
     "execution_count": 50,
     "metadata": {},
     "output_type": "execute_result"
    }
   ],
   "source": [
    "type(temp)"
   ]
  },
  {
   "cell_type": "code",
   "execution_count": 60,
   "metadata": {},
   "outputs": [
    {
     "data": {
      "text/plain": [
       "['one-on-one mit Jakob vorbereiten', '2022-10-30 22:56:21']"
      ]
     },
     "execution_count": 60,
     "metadata": {},
     "output_type": "execute_result"
    }
   ],
   "source": [
    "temp = test.split(\" was recorded during meditation at \")\n",
    "temp[0] = temp[0].replace(\"'\", \"\")\n",
    "temp[1] = temp[1].split(\".\")[0]\n",
    "temp[1] = temp[1].replace(\"'\", \"\")\n",
    "temp"
   ]
  },
  {
   "cell_type": "code",
   "execution_count": 47,
   "metadata": {},
   "outputs": [
    {
     "data": {
      "text/plain": [
       "['one-on-one mit Jakob vorbereiten', '2022-10-30 22:56:21']"
      ]
     },
     "execution_count": 47,
     "metadata": {},
     "output_type": "execute_result"
    }
   ],
   "source": [
    "temp[0] = temp[0].replace(\"'\", \"\")\n",
    "temp[1] = temp[1].split(\".\")[0]\n",
    "temp[1] = temp[1].replace(\"'\", \"\")\n",
    "temp[1] = datetime.temp[1].replace(\"?\", \"\")"
   ]
  },
  {
   "cell_type": "code",
   "execution_count": null,
   "metadata": {},
   "outputs": [],
   "source": []
  }
 ],
 "metadata": {
  "kernelspec": {
   "display_name": "Python 3.9.2 ('venv': venv)",
   "language": "python",
   "name": "python3"
  },
  "language_info": {
   "codemirror_mode": {
    "name": "ipython",
    "version": 3
   },
   "file_extension": ".py",
   "mimetype": "text/x-python",
   "name": "python",
   "nbconvert_exporter": "python",
   "pygments_lexer": "ipython3",
   "version": "3.9.2"
  },
  "orig_nbformat": 4,
  "vscode": {
   "interpreter": {
    "hash": "7704a02d12e46356e3f3803e5a82eefe3d4b4ebf2063b61425891d2eab05e0cc"
   }
  }
 },
 "nbformat": 4,
 "nbformat_minor": 2
}
