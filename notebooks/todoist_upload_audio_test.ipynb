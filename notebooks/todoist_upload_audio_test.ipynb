{
 "cells": [
  {
   "cell_type": "code",
   "execution_count": 1,
   "metadata": {
    "ExecuteTime": {
     "start_time": "2023-06-14T11:33:51.979176Z",
     "end_time": "2023-06-14T11:33:52.070175Z"
    }
   },
   "outputs": [],
   "source": [
    "import os\n",
    "import uuid\n",
    "\n",
    "import requests\n",
    "from todoist_api_python.api import TodoistAPI\n",
    "from todoist_api_python.endpoints import get_sync_url\n",
    "from todoist_api_python.headers import create_headers\n",
    "\n",
    "from quarter_lib.akeyless import get_secrets\n",
    "TODOIST_TOKEN = get_secrets(\"todoist/token\")\n",
    "TODOIST_API = TodoistAPI(TODOIST_TOKEN)\n",
    "\n",
    "HEADERS = create_headers(token=TODOIST_TOKEN)\n",
    "\n",
    "\n",
    "def upload_file(file_path):\n",
    "    return requests.post(\n",
    "        get_sync_url(\"uploads/add\"),\n",
    "        headers=HEADERS,\n",
    "        files={\n",
    "            \"file\": open(file_path, \"rb\"),\n",
    "        },\n",
    "    ).json()\n",
    "\n",
    "\n",
    "def add_note_with_attachement(task_id, file_path):\n",
    "    file = upload_file(file_path)\n",
    "    return requests.post(\n",
    "        get_sync_url(\"sync\"),\n",
    "        headers=HEADERS,\n",
    "        json={\n",
    "            \"commands\": [\n",
    "                {\n",
    "                    \"type\": \"note_add\",\n",
    "                    \"temp_id\": str(uuid.uuid4()),\n",
    "                    \"uuid\": str(uuid.uuid4()),\n",
    "                    \"args\": {\n",
    "                        \"item_id\": task_id,\n",
    "                        \"content\": \"\",\n",
    "                        \"file_attachment\": {\n",
    "                            \"file_name\": file[\"file_name\"],\n",
    "                            \"file_size\": file[\"file_size\"],\n",
    "                            \"file_type\": file['file_type'],\n",
    "                            \"file_url\": file[\"file_url\"],\n",
    "                            \"resource_type\": \"audio\",\n",
    "                        },\n",
    "                    },\n",
    "                },\n",
    "            ]\n",
    "        },\n",
    "    ).json()\n"
   ]
  },
  {
   "cell_type": "code",
   "execution_count": 20,
   "metadata": {},
   "outputs": [],
   "source": [
    "task_id = \"6365837907\""
   ]
  },
  {
   "cell_type": "code",
   "execution_count": 21,
   "metadata": {},
   "outputs": [
    {
     "data": {
      "text/plain": [
       "{'full_sync': True,\n",
       " 'sync_status': {'953fc1d8-7ba7-4aa9-849d-bf84dc4aa2a0': 'ok'},\n",
       " 'sync_token': 'FNx8LVt7I_UaOfK4Q6Vfp4B77kuEqvRp2jW7JlZeLa-NHWEQ0ijwtW-2F2IqTde6RLMiEX2VZQWYSigJADiiAtzCClSUmyIm2M8pQLX1UY7g6A',\n",
       " 'temp_id_mapping': {'004a0d06-9c29-430c-bdff-a2514b39cf3a': '3176680268'}}"
      ]
     },
     "execution_count": 21,
     "metadata": {},
     "output_type": "execute_result"
    }
   ],
   "source": [
    "add_note_with_attachement(task_id, r\"D:\\OneDrive\\Code\\telegram-assistant\\notebooks\\temp.wav\")"
   ]
  },
  {
   "cell_type": "code",
   "execution_count": null,
   "metadata": {},
   "outputs": [],
   "source": []
  },
  {
   "cell_type": "code",
   "execution_count": 11,
   "outputs": [],
   "source": [
    "def run_sync_commands(commands):\n",
    "    return requests.post(\n",
    "        get_sync_url(\"sync\"),\n",
    "        headers=HEADERS,\n",
    "        json={\"commands\": commands},\n",
    "    )\n",
    "\n",
    "\n",
    "def run_todoist_sync_commands(commands):\n",
    "    for command in commands:\n",
    "        command[\"uuid\"] = str(uuid.uuid4())\n",
    "        if not command.get(\"temp_id\"):\n",
    "            command[\"temp_id\"] = (str(uuid.uuid4()),)\n",
    "    return run_sync_commands(commands)\n"
   ],
   "metadata": {
    "collapsed": false,
    "ExecuteTime": {
     "start_time": "2023-06-14T11:40:42.920531Z",
     "end_time": "2023-06-14T11:40:42.934529Z"
    }
   }
  },
  {
   "cell_type": "code",
   "execution_count": 21,
   "outputs": [
    {
     "data": {
      "text/plain": "[{'type': 'item_add',\n  'temp_id': '_599adecf-e4f3-4142-8135-45e464194fea',\n  'args': {'content': 'test', 'description': 'testtest'},\n  'uuid': 'dd6afe19-cc9c-42c1-bc78-598bae3768eb'},\n {'type': 'note_add',\n  'args': {'content': '',\n   'item_id': '_599adecf-e4f3-4142-8135-45e464194fea',\n   'file_attachment': {'file_name': 'Emotional Intelligence Disc07 Daniel Goleman Emotional Intelligence Disc 7 09 EI.7.9-280.mp3',\n    'file_size': 1764044,\n    'file_type': 'audio/mpeg',\n    'file_url': 'https://files.todoist.com/ZYuC3O85m_PYX_v7uu9WwGf-oMTchdPo4xvMPWyZUzX-hnG3ZpHmg84V2a4qLFhG/by/29307554/as/file.mp3'}},\n  'uuid': '6981d8df-8337-482c-a4c5-8ed160316768',\n  'temp_id': ('36cf8ba3-07eb-418c-8529-2612c1188e48',)}]"
     },
     "metadata": {},
     "output_type": "display_data"
    },
    {
     "data": {
      "text/plain": "{'full_sync': True,\n 'sync_status': {'6981d8df-8337-482c-a4c5-8ed160316768': 'ok',\n  'dd6afe19-cc9c-42c1-bc78-598bae3768eb': 'ok'},\n 'sync_token': 'fw7p9dIb8wZabdDHEBlnSawqvsQ3HmnMFDMKh4hxL-0Y4K8OknwvxHkf5xD3L82-38iLHYTDiYWEMku2aznYrigCvbcl8FIOVoM04I41_OIyFrUP',\n 'temp_id_mapping': {\"['36cf8ba3-07eb-418c-8529-2612c1188e48']\": '3295827092',\n  '_599adecf-e4f3-4142-8135-45e464194fea': '6964887153'}}"
     },
     "execution_count": 21,
     "metadata": {},
     "output_type": "execute_result"
    }
   ],
   "source": [
    "command_list = []\n",
    "generated_temp_id = \"_\" + str(uuid.uuid4())\n",
    "command_list.append(\n",
    "    {\n",
    "        \"type\": \"item_add\",\n",
    "        \"temp_id\": generated_temp_id,\n",
    "        \"args\": {\"content\": \"test\", \"description\": \"testtest\"},\n",
    "    }\n",
    ")\n",
    "command_list.append(\n",
    "    {\n",
    "        \"type\": \"note_add\",\n",
    "        \"args\": {\"content\": \"\",\n",
    "                 \"item_id\": generated_temp_id,\n",
    "                 \"file_attachment\":\n",
    "                     {\n",
    "                         \"file_name\": 'Emotional Intelligence Disc07 Daniel Goleman Emotional Intelligence Disc 7 09 EI.7.9-280.mp3',\n",
    "                         \"file_size\": 1764044,\n",
    "                         \"file_type\": 'audio/mpeg',\n",
    "                         \"file_url\": 'https://files.todoist.com/ZYuC3O85m_PYX_v7uu9WwGf-oMTchdPo4xvMPWyZUzX-hnG3ZpHmg84V2a4qLFhG/by/29307554/as/file.mp3',\n",
    "                     },\n",
    "                 }\n",
    "    }\n",
    ")\n",
    "result_list = run_todoist_sync_commands(command_list).json()\n",
    "display(command_list)\n",
    "result_list"
   ],
   "metadata": {
    "collapsed": false,
    "ExecuteTime": {
     "start_time": "2023-06-14T11:45:45.233369Z",
     "end_time": "2023-06-14T11:45:45.864746Z"
    }
   }
  },
  {
   "cell_type": "markdown",
   "source": [],
   "metadata": {
    "collapsed": false
   }
  }
 ],
 "metadata": {
  "kernelspec": {
   "display_name": "Python 3.9.2 ('venv': venv)",
   "language": "python",
   "name": "python3"
  },
  "language_info": {
   "codemirror_mode": {
    "name": "ipython",
    "version": 3
   },
   "file_extension": ".py",
   "mimetype": "text/x-python",
   "name": "python",
   "nbconvert_exporter": "python",
   "pygments_lexer": "ipython3",
   "version": "3.9.2"
  },
  "orig_nbformat": 4,
  "vscode": {
   "interpreter": {
    "hash": "7704a02d12e46356e3f3803e5a82eefe3d4b4ebf2063b61425891d2eab05e0cc"
   }
  }
 },
 "nbformat": 4,
 "nbformat_minor": 2
}
