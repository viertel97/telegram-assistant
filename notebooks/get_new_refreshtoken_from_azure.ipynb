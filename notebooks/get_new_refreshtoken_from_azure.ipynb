{
 "cells": [
  {
   "cell_type": "code",
   "execution_count": 1,
   "outputs": [
    {
     "name": "stderr",
     "output_type": "stream",
     "text": [
      "2023-07-27 09:51:34.875 | INFO     | quarter_lib.akeyless:<module>:10 - credentials loaded from env: False\n"
     ]
    }
   ],
   "source": [
    "\n",
    "import urllib\n",
    "import requests\n",
    "import msal\n",
    "from quarter_lib.akeyless import get_secrets\n",
    "\n",
    "\n",
    "base_url = \"https://graph.microsoft.com/v1.0/\"\n",
    "endpoint = base_url + \"me\"\n",
    "\n",
    "AUTHORITY_URL = \"https://login.microsoftonline.com/consumers/\"\n",
    "TENANT_ID = \"b51c3e4b-1ba5-4a71-8fee-b1275f334ac5\"\n",
    "\n",
    "SCOPES = [\"User.Read\", \"Files.ReadWrite.All\"]\n",
    "AUTH_CODE = \"M.R3_BAY.9f8487fe-43c1-fbed-7e88-244f9f33d43b\"\n",
    "\n",
    "CLIENT_ID, CLIENT_SECRET, REFRESH_TOKEN = get_secrets(\n",
    "    [\"microsoft/client_id\", \"microsoft/client_secret\", \"microsoft/refresh_token\"])\n",
    "\n",
    "client_instance = msal.ConfidentialClientApplication(\n",
    "    client_id=CLIENT_ID,\n",
    "    client_credential=CLIENT_SECRET,\n",
    "    authority=AUTHORITY_URL\n",
    ")\n",
    "\n",
    "\n",
    "def get_access_token():\n",
    "    token = client_instance.acquire_token_by_refresh_token(\n",
    "        refresh_token=ref_token,\n",
    "        scopes=SCOPES)\n",
    "\n",
    "    return token['access_token']"
   ],
   "metadata": {
    "collapsed": false,
    "ExecuteTime": {
     "end_time": "2023-07-27T07:51:36.464499800Z",
     "start_time": "2023-07-27T07:51:34.762847800Z"
    }
   }
  },
  {
   "cell_type": "code",
   "execution_count": 2,
   "metadata": {
    "collapsed": true,
    "ExecuteTime": {
     "end_time": "2023-07-27T07:51:37.502915700Z",
     "start_time": "2023-07-27T07:51:37.261322600Z"
    }
   },
   "outputs": [
    {
     "name": "stdout",
     "output_type": "stream",
     "text": [
      "https://login.microsoftonline.com/b51c3e4b-1ba5-4a71-8fee-b1275f334ac5/oauth2/v2.0/authorize?client_id=00a50573-4b12-4227-ae43-de1b40fff7ac&response_type=code&scope=Files.ReadWrite.All+User.Read+offline_access+openid+profile\n"
     ]
    }
   ],
   "source": [
    "\n",
    "# Authority URL for your tenant\n",
    "authority_url = f\"https://login.microsoftonline.com/{TENANT_ID}\"\n",
    "\n",
    "# Create a public client application\n",
    "app = msal.ConfidentialClientApplication(\n",
    "    client_id=CLIENT_ID, client_credential=CLIENT_SECRET, authority=authority_url\n",
    ")\n",
    "\n",
    "# Create a login URL (you can redirect the user to this URL to authenticate)\n",
    "login_url = app.get_authorization_request_url(SCOPES)\n",
    "print(login_url)\n"
   ]
  },
  {
   "cell_type": "code",
   "execution_count": 3,
   "outputs": [
    {
     "data": {
      "text/plain": "{'token_type': 'Bearer',\n 'scope': 'Files.Read.All Files.ReadWrite.All User.Read profile openid email',\n 'expires_in': 4893,\n 'ext_expires_in': 4893,\n 'access_token': 'eyJ0eXAiOiJKV1QiLCJub25jZSI6InAzSHVtV00zemZtZ0NuWnh3ZXo5bzNYTTkzSHpmLXNjOTVXUHdMWFJKeDQiLCJhbGciOiJSUzI1NiIsIng1dCI6Ii1LSTNROW5OUjdiUm9meG1lWm9YcWJIWkdldyIsImtpZCI6Ii1LSTNROW5OUjdiUm9meG1lWm9YcWJIWkdldyJ9.eyJhdWQiOiIwMDAwMDAwMy0wMDAwLTAwMDAtYzAwMC0wMDAwMDAwMDAwMDAiLCJpc3MiOiJodHRwczovL3N0cy53aW5kb3dzLm5ldC9iNTFjM2U0Yi0xYmE1LTRhNzEtOGZlZS1iMTI3NWYzMzRhYzUvIiwiaWF0IjoxNjkwNDQ0MDExLCJuYmYiOjE2OTA0NDQwMTEsImV4cCI6MTY5MDQ0OTIwNSwiYWNjdCI6MCwiYWNyIjoiMSIsImFpbyI6IkFZUUFlLzhVQUFBQVlKSjNYMldQU1Rlc0pGVXF6bXMyRkpEd09uV3MzTGVDK2dmckVJVjVjUURFQWwwSFZ3SmRzcHpvUnVVeWViRlZyUFlsMDVURDFkR2RoZ0ZwL2NlUCtRQk1sdVhid05zTmFCamRmL1NnUVUwQmEwRVVnRk54WkxZQjkyWkhLUlZ6UUZjQnRVZzUzTDNvMTdZRS9na3k0WVJFZElkdDBFZGRWSlBXbWl1MjY3Zz0iLCJhbHRzZWNpZCI6IjE6bGl2ZS5jb206MDAwMzdGRkVDM0U2RkEwQyIsImFtciI6WyJwd2QiLCJtZmEiXSwiYXBwX2Rpc3BsYXluYW1lIjoiR3JhcGggVGVzdCIsImFwcGlkIjoiMDBhNTA1NzMtNGIxMi00MjI3LWFlNDMtZGUxYjQwZmZmN2FjIiwiYXBwaWRhY3IiOiIxIiwiZW1haWwiOiJqYW5pay52aWVydGVsQHdlYi5kZSIsImZhbWlseV9uYW1lIjoiVmllcnRlbCIsImdpdmVuX25hbWUiOiJKYW5payIsImlkcCI6ImxpdmUuY29tIiwiaWR0eXAiOiJ1c2VyIiwiaXBhZGRyIjoiMmEwMjo5MDg6MjIyNTpiNWMwOjY4ZDc6MWM2OjEyN2U6YzU2MyIsIm5hbWUiOiJKYW5payBWaWVydGVsIiwib2lkIjoiZDAxNzdhOTYtMGU2Zi00NTc5LTkxMTMtYWE1YzFiOGI0ZWQxIiwicGxhdGYiOiIzIiwicHVpZCI6IjEwMDMyMDAwOURENzAwMzQiLCJyaCI6IjAuQVdBQVN6NGN0YVViY1VxUDdyRW5Yek5LeFFNQUFBQUFBQUFBd0FBQUFBQUFBQUNUQUE0LiIsInNjcCI6IkZpbGVzLlJlYWQuQWxsIEZpbGVzLlJlYWRXcml0ZS5BbGwgVXNlci5SZWFkIHByb2ZpbGUgb3BlbmlkIGVtYWlsIiwic2lnbmluX3N0YXRlIjpbImttc2kiXSwic3ViIjoid29NY1dOYXpkUmtzSWdyb0tWMVVadnlKVEVlRFVtMkx4TWZ3OXhBNUZqQSIsInRlbmFudF9yZWdpb25fc2NvcGUiOiJFVSIsInRpZCI6ImI1MWMzZTRiLTFiYTUtNGE3MS04ZmVlLWIxMjc1ZjMzNGFjNSIsInVuaXF1ZV9uYW1lIjoibGl2ZS5jb20jamFuaWsudmllcnRlbEB3ZWIuZGUiLCJ1dGkiOiJTY1BFS2txTnZrS3pmUFVMZ2FvYkFBIiwidmVyIjoiMS4wIiwid2lkcyI6WyI2MmU5MDM5NC02OWY1LTQyMzctOTE5MC0wMTIxNzcxNDVlMTAiLCJiNzlmYmY0ZC0zZWY5LTQ2ODktODE0My03NmIxOTRlODU1MDkiXSwieG1zX3N0Ijp7InN1YiI6IjRqZ2g3OUh6aTdId0pNQzBkVlpaXzh6R1NfMjBkYlZ4Q2Y4dFFSOENPZG8ifSwieG1zX3RjZHQiOjE1ODI4MTAwNTYsInhtc190ZGJyIjoiRVUifQ.d096sKPP3xUtSzqiExLJC52iXptIbrn7UZuFbeBbyPl4VhT5hDryJymBtFsacsdAnrBGxOXxaWxDPGGHKetRq2Nq_lKim8pLjicrzgMnyWPWqFy-9Yr_CBR5MLuekcTwJ7_ky3hOdyJ810eFauY_6kn1mFbrMp-kQHv6xz7W1PzyOAHoCEa1o_JH4brvxw23_14rs1w9WPLWgM0jsX9A6mET800624zBUykGzD1F1AaEUskZBsEmAr8JE4v5-wglKkiy-OCZr8-SirsaU-r1OKTF0WhYZAkImqkTp0l-1m8BzZg68QRQG5QH4bW0jV9Vm9uFbNIvGeqMF_RIMlfFPA',\n 'refresh_token': '0.AWAASz4ctaUbcUqP7rEnXzNKxXMFpQASSydCrkPeG0D_96yTAA4.AgABAAEAAAAtyolDObpQQ5VtlI4uGjEPAgDs_wUA9P-ss5g0cZ_3dvsMi2F0wqt1wkGkMZeZ9X8XDp1-7bMdNBGNw4C8AbKFwRe1ADM-2uJxSHsGqtUO5PTzMgC9Yh0A0LfaYNOxSjfDQ7tFRWtXXgkKOTx0QDcFa6Rr24mbuVZv1ur5W51NvT8oQXlt3x4Zm4g5wqTw1cqkaCaS7vhMQiWTsYLyPES5RWFpQoT2vQS65ic4r_8MdtJXWPgqcZJFFQ4XMf5zRncDo5v1OpK71iG-sPIb8JgOgY8PBXtg3gE0ozxUWWK_H1SN0c4sZpWUab1tpkV4QQsLjcHA7U9jh7YMJ5Ba8AgJZshzM64BPk23orgFMJJkmXa_j1z43jKLfEh3k-mEpP5pmPTHd9BIgiOY2NhXIVmQCvrNiVQwOB1xNe5mwIpC64VHH0JnlPQd7siuioOrFFUkwv59hRDn6cZo3hKz6E2yXTZfLXvRoKkWOm-GiNAS3L49cK1vPTfm2oCIuZ8aP9mGeVCB4g5ddKYrurwMJDUUGzPB8Nj5JeW9xdpSEA5MKSvc-RMoHumwvBUiWNhB1xfkQJGAtJ71fDB-VgGltef2nSnGAAawGvFh79Byrk8eeIztn37Wk4TMAfeGHMJRklYg8oUQ8WMvJj7wDfK_NQyNqXQqfZjeS8XbiBrc4wwLgHKyEltkYm10ysjNg0Iy0gUwOZiLdhUNk-K9nyG8JyL-bun7AWlY79LOmfsYwAzkR5hFlQ9elncyszREANcEUrhgcezTtuv6Z8jqR5H3CnmWDLBRGS-LqlcbYFtfCCG1KfKwXWXZ8Izwv7Kgnbgz_8v1ZRDeVCfyXXd3B_W9Wgw2LTgFUvdK_we5XIS7z27_7yvJfZM5cotuexccGWoqig2lN8Rk4LWcyVJ7jpxrvm2bmp9GZWT0I6N2D3le57vONzGLtHEsC7wSYWcrDFqK_zzoyCjYZY154JHwWjxQFQc-mwh08Iwnh1VilRXII6BaFtJmFVjI37X99gLcARvn0pIR8tU6JIthXh4Fnw53NNfNRIhfM212LkkNWRitJWM9Or2jabvjl8BycwXOt1nplvjacipclhQM7g9LE95E2Y_rVu80MKL-iFwU8E8F5kwe_e0BgyoJ-fyYyQS9P5O1-UQiTniLqU86ZA1eF8tZXa2YvJKyrBV9arvJ52TBR55e6b0pdZztsWgMusUdSAM7oYhPhr-dpvUZWNORSZk4bsEfJaFqxEcIGb5Bbx8z5ya5zm-J9cyhJVDVV5gEcTJMtXFCXj06sN0yiNe9Ol_nXoOZ9UAjE0BcJKglys4K-0iWHlAHgpP3qlWZwN88GYzPOi8iBbCRcyuhHj5TK-y-oCuIwhconQTP7tTtyWs9viigjKjdrvNUg2W-r8hff9VgTcVo3nEoPCSrnKrjWpg8PxVOtYGyzjmy01AxkwM4Xp8kw0pxYzvyNmWl6WvaCRTRiZnUbO4GXk_W7uC6IPSeO39qu2jiL5lfhbbAVZ8H4RUnea7O_OXEQjfLv1024e94WMpSDqdYLyQKHs1CsMj5Q2J4u5hVhnC2lYcZERiZormA3NDbIH8kL-OCryhopWKZXGMTJ6XbFovd5IIrh3Dh33gFezz0YZ0W0t_BCfUcqZDE91yOMiij6-bbDZEVgBc7dsOm3oaUuUs9-QaQ1wA',\n 'id_token': 'eyJ0eXAiOiJKV1QiLCJhbGciOiJSUzI1NiIsImtpZCI6Ii1LSTNROW5OUjdiUm9meG1lWm9YcWJIWkdldyJ9.eyJhdWQiOiIwMGE1MDU3My00YjEyLTQyMjctYWU0My1kZTFiNDBmZmY3YWMiLCJpc3MiOiJodHRwczovL2xvZ2luLm1pY3Jvc29mdG9ubGluZS5jb20vYjUxYzNlNGItMWJhNS00YTcxLThmZWUtYjEyNzVmMzM0YWM1L3YyLjAiLCJpYXQiOjE2OTA0NDQwMTEsIm5iZiI6MTY5MDQ0NDAxMSwiZXhwIjoxNjkwNDQ3OTExLCJpZHAiOiJodHRwczovL3N0cy53aW5kb3dzLm5ldC85MTg4MDQwZC02YzY3LTRjNWItYjExMi0zNmEzMDRiNjZkYWQvIiwibmFtZSI6IkphbmlrIFZpZXJ0ZWwiLCJvaWQiOiJkMDE3N2E5Ni0wZTZmLTQ1NzktOTExMy1hYTVjMWI4YjRlZDEiLCJwcmVmZXJyZWRfdXNlcm5hbWUiOiJqYW5pay52aWVydGVsQHdlYi5kZSIsInByb3ZfZGF0YSI6W3siYXQiOnRydWUsInByb3YiOiJzYW1zdW5nLmNvbSIsImFsdHNlY2lkIjoicHFzSldvVGFNT1lPdUNoOENfMGlPbURReUJjLUp4NFNxclltNjl0c1JIbyJ9XSwicmgiOiIwLkFXQUFTejRjdGFVYmNVcVA3ckVuWHpOS3hYTUZwUUFTU3lkQ3JrUGVHMERfOTZ5VEFBNC4iLCJzdWIiOiI0amdoNzlIemk3SHdKTUMwZFZaWl84ekdTXzIwZGJWeENmOHRRUjhDT2RvIiwidGlkIjoiYjUxYzNlNGItMWJhNS00YTcxLThmZWUtYjEyNzVmMzM0YWM1IiwidXRpIjoiU2NQRUtrcU52a0t6ZlBVTGdhb2JBQSIsInZlciI6IjIuMCJ9.a1XEi1BaJMq_Td2e8IAPKGGU6-fWTytGHkkWA-q0TYJSJy16w5W1GkAe6xJj1ma1k5SyDp1gRAQtTHFRIKhFjDqy3j7xA47mvTBpgsmUDwhELeA2Cykb6TZPam9bDexUZB_r7raoFHKpoQfOijzPtZ0ApB-oz9K9hOVPf6WuAp4KIi_g64z7-YS7PdFC-P-Fdlpf6oZdzEE8oyfDy-nO6dL1uYeomk_gZC_vZ2HgB7NsoaZfbTI6S2KBbjQLQ_SzIoSPW58K4F7h3g9bdJro0QSututYj9qHZS_yokrZNFr8Tok3r5f3bqV-7eBIsqMbeUuo4_CuJr-_kGKNvFg58A',\n 'client_info': 'eyJ1aWQiOiIwMDAwMDAwMC0wMDAwLTAwMDAtNGRmYy03ZDlmZmMzZjk5ZTMiLCJ1dGlkIjoiOTE4ODA0MGQtNmM2Ny00YzViLWIxMTItMzZhMzA0YjY2ZGFkIn0',\n 'id_token_claims': {'aud': '00a50573-4b12-4227-ae43-de1b40fff7ac',\n  'iss': 'https://login.microsoftonline.com/b51c3e4b-1ba5-4a71-8fee-b1275f334ac5/v2.0',\n  'iat': 1690444011,\n  'nbf': 1690444011,\n  'exp': 1690447911,\n  'idp': 'https://sts.windows.net/9188040d-6c67-4c5b-b112-36a304b66dad/',\n  'name': 'Janik Viertel',\n  'oid': 'd0177a96-0e6f-4579-9113-aa5c1b8b4ed1',\n  'preferred_username': 'janik.viertel@web.de',\n  'prov_data': [{'at': True,\n    'prov': 'samsung.com',\n    'altsecid': 'pqsJWoTaMOYOuCh8C_0iOmDQyBc-Jx4SqrYm69tsRHo'}],\n  'rh': '0.AWAASz4ctaUbcUqP7rEnXzNKxXMFpQASSydCrkPeG0D_96yTAA4.',\n  'sub': '4jgh79Hzi7HwJMC0dVZZ_8zGS_20dbVxCf8tQR8COdo',\n  'tid': 'b51c3e4b-1ba5-4a71-8fee-b1275f334ac5',\n  'uti': 'ScPEKkqNvkKzfPULgaobAA',\n  'ver': '2.0'}}"
     },
     "execution_count": 3,
     "metadata": {},
     "output_type": "execute_result"
    }
   ],
   "source": [
    "# Assuming you've obtained an authorization code after the user authenticates\n",
    "authorization_code = input()\n",
    "# Acquire a token using the authorization code\n",
    "result = app.acquire_token_by_authorization_code(authorization_code, scopes=SCOPES)\n",
    "result"
   ],
   "metadata": {
    "collapsed": false,
    "ExecuteTime": {
     "end_time": "2023-07-27T07:51:53.848739700Z",
     "start_time": "2023-07-27T07:51:52.110552700Z"
    }
   }
  },
  {
   "cell_type": "code",
   "execution_count": 4,
   "outputs": [
    {
     "data": {
      "text/plain": "'0.AWAASz4ctaUbcUqP7rEnXzNKxXMFpQASSydCrkPeG0D_96yTAA4.AgABAAEAAAAtyolDObpQQ5VtlI4uGjEPAgDs_wUA9P-ss5g0cZ_3dvsMi2F0wqt1wkGkMZeZ9X8XDp1-7bMdNBGNw4C8AbKFwRe1ADM-2uJxSHsGqtUO5PTzMgC9Yh0A0LfaYNOxSjfDQ7tFRWtXXgkKOTx0QDcFa6Rr24mbuVZv1ur5W51NvT8oQXlt3x4Zm4g5wqTw1cqkaCaS7vhMQiWTsYLyPES5RWFpQoT2vQS65ic4r_8MdtJXWPgqcZJFFQ4XMf5zRncDo5v1OpK71iG-sPIb8JgOgY8PBXtg3gE0ozxUWWK_H1SN0c4sZpWUab1tpkV4QQsLjcHA7U9jh7YMJ5Ba8AgJZshzM64BPk23orgFMJJkmXa_j1z43jKLfEh3k-mEpP5pmPTHd9BIgiOY2NhXIVmQCvrNiVQwOB1xNe5mwIpC64VHH0JnlPQd7siuioOrFFUkwv59hRDn6cZo3hKz6E2yXTZfLXvRoKkWOm-GiNAS3L49cK1vPTfm2oCIuZ8aP9mGeVCB4g5ddKYrurwMJDUUGzPB8Nj5JeW9xdpSEA5MKSvc-RMoHumwvBUiWNhB1xfkQJGAtJ71fDB-VgGltef2nSnGAAawGvFh79Byrk8eeIztn37Wk4TMAfeGHMJRklYg8oUQ8WMvJj7wDfK_NQyNqXQqfZjeS8XbiBrc4wwLgHKyEltkYm10ysjNg0Iy0gUwOZiLdhUNk-K9nyG8JyL-bun7AWlY79LOmfsYwAzkR5hFlQ9elncyszREANcEUrhgcezTtuv6Z8jqR5H3CnmWDLBRGS-LqlcbYFtfCCG1KfKwXWXZ8Izwv7Kgnbgz_8v1ZRDeVCfyXXd3B_W9Wgw2LTgFUvdK_we5XIS7z27_7yvJfZM5cotuexccGWoqig2lN8Rk4LWcyVJ7jpxrvm2bmp9GZWT0I6N2D3le57vONzGLtHEsC7wSYWcrDFqK_zzoyCjYZY154JHwWjxQFQc-mwh08Iwnh1VilRXII6BaFtJmFVjI37X99gLcARvn0pIR8tU6JIthXh4Fnw53NNfNRIhfM212LkkNWRitJWM9Or2jabvjl8BycwXOt1nplvjacipclhQM7g9LE95E2Y_rVu80MKL-iFwU8E8F5kwe_e0BgyoJ-fyYyQS9P5O1-UQiTniLqU86ZA1eF8tZXa2YvJKyrBV9arvJ52TBR55e6b0pdZztsWgMusUdSAM7oYhPhr-dpvUZWNORSZk4bsEfJaFqxEcIGb5Bbx8z5ya5zm-J9cyhJVDVV5gEcTJMtXFCXj06sN0yiNe9Ol_nXoOZ9UAjE0BcJKglys4K-0iWHlAHgpP3qlWZwN88GYzPOi8iBbCRcyuhHj5TK-y-oCuIwhconQTP7tTtyWs9viigjKjdrvNUg2W-r8hff9VgTcVo3nEoPCSrnKrjWpg8PxVOtYGyzjmy01AxkwM4Xp8kw0pxYzvyNmWl6WvaCRTRiZnUbO4GXk_W7uC6IPSeO39qu2jiL5lfhbbAVZ8H4RUnea7O_OXEQjfLv1024e94WMpSDqdYLyQKHs1CsMj5Q2J4u5hVhnC2lYcZERiZormA3NDbIH8kL-OCryhopWKZXGMTJ6XbFovd5IIrh3Dh33gFezz0YZ0W0t_BCfUcqZDE91yOMiij6-bbDZEVgBc7dsOm3oaUuUs9-QaQ1wA'"
     },
     "execution_count": 4,
     "metadata": {},
     "output_type": "execute_result"
    }
   ],
   "source": [
    "result['refresh_token']"
   ],
   "metadata": {
    "collapsed": false,
    "ExecuteTime": {
     "end_time": "2023-07-27T07:52:39.397711400Z",
     "start_time": "2023-07-27T07:52:39.393712700Z"
    }
   }
  },
  {
   "cell_type": "code",
   "execution_count": null,
   "outputs": [],
   "source": [],
   "metadata": {
    "collapsed": false
   }
  }
 ],
 "metadata": {
  "kernelspec": {
   "display_name": "Python 3",
   "language": "python",
   "name": "python3"
  },
  "language_info": {
   "codemirror_mode": {
    "name": "ipython",
    "version": 2
   },
   "file_extension": ".py",
   "mimetype": "text/x-python",
   "name": "python",
   "nbconvert_exporter": "python",
   "pygments_lexer": "ipython2",
   "version": "2.7.6"
  }
 },
 "nbformat": 4,
 "nbformat_minor": 0
}
